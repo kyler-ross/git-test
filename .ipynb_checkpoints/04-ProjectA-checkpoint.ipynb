{
 "cells": [
  {
   "cell_type": "markdown",
   "metadata": {},
   "source": [
    "# Additional API Examples\n",
    "\n",
    "In our first project, we will use datasets obtained through web API's to write a nice report that includes visualizations, and reproducible code including data.  Our options involve using the `NYCOpenData` portal API or the World Bank Climate Data API.\n",
    "\n",
    "### NYC Open Data\n",
    "\n",
    "![](images/nycdata.png)\n",
    "\n",
    "Below, we load a dataset from the NYC Open Data site.  You can search for other datasets if you would like, or you may use the city's recent data on mathematics performance in grades 3 - 8.  To begin, we load the `requests` library, and enter the API Endpoint url from the site.  This comes as a JSON or javascript file, so we need to use the `read_json` method to change this to a Pandas DataFrame."
   ]
  },
  {
   "cell_type": "code",
   "execution_count": 1,
   "metadata": {
    "collapsed": true
   },
   "outputs": [],
   "source": [
    "import requests"
   ]
  },
  {
   "cell_type": "code",
   "execution_count": 2,
   "metadata": {
    "collapsed": true
   },
   "outputs": [],
   "source": [
    "math = requests.get('https://data.cityofnewyork.us/resource/uqrh-uk4g.json')"
   ]
  },
  {
   "cell_type": "code",
   "execution_count": 3,
   "metadata": {},
   "outputs": [
    {
     "data": {
      "text/plain": [
       "<Response [200]>"
      ]
     },
     "execution_count": 3,
     "metadata": {},
     "output_type": "execute_result"
    }
   ],
   "source": [
    "math"
   ]
  },
  {
   "cell_type": "code",
   "execution_count": 4,
   "metadata": {},
   "outputs": [
    {
     "data": {
      "text/plain": [
       "u'[{\"dbn\":\"01M015\",\"demographic\":\"Asian\",\"grade\":\"3\",\"mean_scale_score\":\"s\",\"num_level_1\":\"s\",\"num_level_2\":\"s\",\"num_level_3\":\"s\",\"num_level_3_and_4\":\"s\",\"num_level_4\":\"s\",\"number_tested\":\"3\",\"pct_level_1\":\"s\",\"pct_level_2\":\"s\",\"pct_level_3\":\"s\",\"pct_level_3_and_4\":\"s\",\"pct_level_4\":\"s\",\"year\":\"2006\"}'"
      ]
     },
     "execution_count": 4,
     "metadata": {},
     "output_type": "execute_result"
    }
   ],
   "source": [
    "math.text[:300]"
   ]
  },
  {
   "cell_type": "code",
   "execution_count": 5,
   "metadata": {
    "collapsed": true
   },
   "outputs": [],
   "source": [
    "import pandas as pd"
   ]
  },
  {
   "cell_type": "code",
   "execution_count": 6,
   "metadata": {
    "collapsed": true
   },
   "outputs": [],
   "source": [
    "math = pd.read_json(math.text)"
   ]
  },
  {
   "cell_type": "code",
   "execution_count": 9,
   "metadata": {},
   "outputs": [
    {
     "data": {
      "text/html": [
       "<div>\n",
       "<style>\n",
       "    .dataframe thead tr:only-child th {\n",
       "        text-align: right;\n",
       "    }\n",
       "\n",
       "    .dataframe thead th {\n",
       "        text-align: left;\n",
       "    }\n",
       "\n",
       "    .dataframe tbody tr th {\n",
       "        vertical-align: top;\n",
       "    }\n",
       "</style>\n",
       "<table border=\"1\" class=\"dataframe\">\n",
       "  <thead>\n",
       "    <tr style=\"text-align: right;\">\n",
       "      <th></th>\n",
       "      <th>dbn</th>\n",
       "      <th>demographic</th>\n",
       "      <th>grade</th>\n",
       "      <th>mean_scale_score</th>\n",
       "      <th>num_level_1</th>\n",
       "      <th>num_level_2</th>\n",
       "      <th>num_level_3</th>\n",
       "      <th>num_level_3_and_4</th>\n",
       "      <th>num_level_4</th>\n",
       "      <th>number_tested</th>\n",
       "      <th>pct_level_1</th>\n",
       "      <th>pct_level_2</th>\n",
       "      <th>pct_level_3</th>\n",
       "      <th>pct_level_3_and_4</th>\n",
       "      <th>pct_level_4</th>\n",
       "      <th>year</th>\n",
       "    </tr>\n",
       "  </thead>\n",
       "  <tbody>\n",
       "    <tr>\n",
       "      <th>0</th>\n",
       "      <td>01M015</td>\n",
       "      <td>Asian</td>\n",
       "      <td>3</td>\n",
       "      <td>s</td>\n",
       "      <td>s</td>\n",
       "      <td>s</td>\n",
       "      <td>s</td>\n",
       "      <td>s</td>\n",
       "      <td>s</td>\n",
       "      <td>3</td>\n",
       "      <td>s</td>\n",
       "      <td>s</td>\n",
       "      <td>s</td>\n",
       "      <td>s</td>\n",
       "      <td>s</td>\n",
       "      <td>2006</td>\n",
       "    </tr>\n",
       "    <tr>\n",
       "      <th>1</th>\n",
       "      <td>01M015</td>\n",
       "      <td>Black</td>\n",
       "      <td>3</td>\n",
       "      <td>662</td>\n",
       "      <td>0</td>\n",
       "      <td>3</td>\n",
       "      <td>9</td>\n",
       "      <td>9</td>\n",
       "      <td>0</td>\n",
       "      <td>12</td>\n",
       "      <td>0</td>\n",
       "      <td>25</td>\n",
       "      <td>75</td>\n",
       "      <td>75</td>\n",
       "      <td>0</td>\n",
       "      <td>2006</td>\n",
       "    </tr>\n",
       "    <tr>\n",
       "      <th>2</th>\n",
       "      <td>01M015</td>\n",
       "      <td>Hispanic</td>\n",
       "      <td>3</td>\n",
       "      <td>670</td>\n",
       "      <td>1</td>\n",
       "      <td>8</td>\n",
       "      <td>10</td>\n",
       "      <td>15</td>\n",
       "      <td>5</td>\n",
       "      <td>24</td>\n",
       "      <td>4.2</td>\n",
       "      <td>33.3</td>\n",
       "      <td>41.7</td>\n",
       "      <td>62.5</td>\n",
       "      <td>20.8</td>\n",
       "      <td>2006</td>\n",
       "    </tr>\n",
       "    <tr>\n",
       "      <th>3</th>\n",
       "      <td>01M015</td>\n",
       "      <td>Asian</td>\n",
       "      <td>3</td>\n",
       "      <td>s</td>\n",
       "      <td>s</td>\n",
       "      <td>s</td>\n",
       "      <td>s</td>\n",
       "      <td>s</td>\n",
       "      <td>s</td>\n",
       "      <td>3</td>\n",
       "      <td>s</td>\n",
       "      <td>s</td>\n",
       "      <td>s</td>\n",
       "      <td>s</td>\n",
       "      <td>s</td>\n",
       "      <td>2007</td>\n",
       "    </tr>\n",
       "    <tr>\n",
       "      <th>4</th>\n",
       "      <td>01M015</td>\n",
       "      <td>Black</td>\n",
       "      <td>3</td>\n",
       "      <td>s</td>\n",
       "      <td>s</td>\n",
       "      <td>s</td>\n",
       "      <td>s</td>\n",
       "      <td>s</td>\n",
       "      <td>s</td>\n",
       "      <td>4</td>\n",
       "      <td>s</td>\n",
       "      <td>s</td>\n",
       "      <td>s</td>\n",
       "      <td>s</td>\n",
       "      <td>s</td>\n",
       "      <td>2007</td>\n",
       "    </tr>\n",
       "    <tr>\n",
       "      <th>5</th>\n",
       "      <td>01M015</td>\n",
       "      <td>Hispanic</td>\n",
       "      <td>3</td>\n",
       "      <td>678</td>\n",
       "      <td>0</td>\n",
       "      <td>1</td>\n",
       "      <td>19</td>\n",
       "      <td>22</td>\n",
       "      <td>3</td>\n",
       "      <td>23</td>\n",
       "      <td>0</td>\n",
       "      <td>4.3</td>\n",
       "      <td>82.6</td>\n",
       "      <td>95.7</td>\n",
       "      <td>13</td>\n",
       "      <td>2007</td>\n",
       "    </tr>\n",
       "    <tr>\n",
       "      <th>6</th>\n",
       "      <td>01M015</td>\n",
       "      <td>White</td>\n",
       "      <td>3</td>\n",
       "      <td>s</td>\n",
       "      <td>s</td>\n",
       "      <td>s</td>\n",
       "      <td>s</td>\n",
       "      <td>s</td>\n",
       "      <td>s</td>\n",
       "      <td>1</td>\n",
       "      <td>s</td>\n",
       "      <td>s</td>\n",
       "      <td>s</td>\n",
       "      <td>s</td>\n",
       "      <td>s</td>\n",
       "      <td>2007</td>\n",
       "    </tr>\n",
       "    <tr>\n",
       "      <th>7</th>\n",
       "      <td>01M015</td>\n",
       "      <td>Asian</td>\n",
       "      <td>3</td>\n",
       "      <td>s</td>\n",
       "      <td>s</td>\n",
       "      <td>s</td>\n",
       "      <td>s</td>\n",
       "      <td>s</td>\n",
       "      <td>s</td>\n",
       "      <td>1</td>\n",
       "      <td>s</td>\n",
       "      <td>s</td>\n",
       "      <td>s</td>\n",
       "      <td>s</td>\n",
       "      <td>s</td>\n",
       "      <td>2008</td>\n",
       "    </tr>\n",
       "    <tr>\n",
       "      <th>8</th>\n",
       "      <td>01M015</td>\n",
       "      <td>Black</td>\n",
       "      <td>3</td>\n",
       "      <td>652</td>\n",
       "      <td>0</td>\n",
       "      <td>3</td>\n",
       "      <td>5</td>\n",
       "      <td>5</td>\n",
       "      <td>0</td>\n",
       "      <td>8</td>\n",
       "      <td>0</td>\n",
       "      <td>37.5</td>\n",
       "      <td>62.5</td>\n",
       "      <td>62.5</td>\n",
       "      <td>0</td>\n",
       "      <td>2008</td>\n",
       "    </tr>\n",
       "    <tr>\n",
       "      <th>9</th>\n",
       "      <td>01M015</td>\n",
       "      <td>Hispanic</td>\n",
       "      <td>3</td>\n",
       "      <td>671</td>\n",
       "      <td>0</td>\n",
       "      <td>3</td>\n",
       "      <td>23</td>\n",
       "      <td>24</td>\n",
       "      <td>1</td>\n",
       "      <td>27</td>\n",
       "      <td>0</td>\n",
       "      <td>11.1</td>\n",
       "      <td>85.2</td>\n",
       "      <td>88.9</td>\n",
       "      <td>3.7</td>\n",
       "      <td>2008</td>\n",
       "    </tr>\n",
       "    <tr>\n",
       "      <th>10</th>\n",
       "      <td>01M015</td>\n",
       "      <td>White</td>\n",
       "      <td>3</td>\n",
       "      <td>s</td>\n",
       "      <td>s</td>\n",
       "      <td>s</td>\n",
       "      <td>s</td>\n",
       "      <td>s</td>\n",
       "      <td>s</td>\n",
       "      <td>1</td>\n",
       "      <td>s</td>\n",
       "      <td>s</td>\n",
       "      <td>s</td>\n",
       "      <td>s</td>\n",
       "      <td>s</td>\n",
       "      <td>2008</td>\n",
       "    </tr>\n",
       "    <tr>\n",
       "      <th>11</th>\n",
       "      <td>01M015</td>\n",
       "      <td>Asian</td>\n",
       "      <td>3</td>\n",
       "      <td>s</td>\n",
       "      <td>s</td>\n",
       "      <td>s</td>\n",
       "      <td>s</td>\n",
       "      <td>s</td>\n",
       "      <td>s</td>\n",
       "      <td>2</td>\n",
       "      <td>s</td>\n",
       "      <td>s</td>\n",
       "      <td>s</td>\n",
       "      <td>s</td>\n",
       "      <td>s</td>\n",
       "      <td>2009</td>\n",
       "    </tr>\n",
       "    <tr>\n",
       "      <th>12</th>\n",
       "      <td>01M015</td>\n",
       "      <td>Black</td>\n",
       "      <td>3</td>\n",
       "      <td>668</td>\n",
       "      <td>0</td>\n",
       "      <td>1</td>\n",
       "      <td>12</td>\n",
       "      <td>12</td>\n",
       "      <td>0</td>\n",
       "      <td>13</td>\n",
       "      <td>0</td>\n",
       "      <td>7.7</td>\n",
       "      <td>92.3</td>\n",
       "      <td>92.3</td>\n",
       "      <td>0</td>\n",
       "      <td>2009</td>\n",
       "    </tr>\n",
       "    <tr>\n",
       "      <th>13</th>\n",
       "      <td>01M015</td>\n",
       "      <td>Hispanic</td>\n",
       "      <td>3</td>\n",
       "      <td>667</td>\n",
       "      <td>0</td>\n",
       "      <td>3</td>\n",
       "      <td>12</td>\n",
       "      <td>13</td>\n",
       "      <td>1</td>\n",
       "      <td>16</td>\n",
       "      <td>0</td>\n",
       "      <td>18.8</td>\n",
       "      <td>75</td>\n",
       "      <td>81.3</td>\n",
       "      <td>6.3</td>\n",
       "      <td>2009</td>\n",
       "    </tr>\n",
       "    <tr>\n",
       "      <th>14</th>\n",
       "      <td>01M015</td>\n",
       "      <td>Asian</td>\n",
       "      <td>3</td>\n",
       "      <td>s</td>\n",
       "      <td>s</td>\n",
       "      <td>s</td>\n",
       "      <td>s</td>\n",
       "      <td>s</td>\n",
       "      <td>s</td>\n",
       "      <td>2</td>\n",
       "      <td>s</td>\n",
       "      <td>s</td>\n",
       "      <td>s</td>\n",
       "      <td>s</td>\n",
       "      <td>s</td>\n",
       "      <td>2010</td>\n",
       "    </tr>\n",
       "    <tr>\n",
       "      <th>15</th>\n",
       "      <td>01M015</td>\n",
       "      <td>Black</td>\n",
       "      <td>3</td>\n",
       "      <td>s</td>\n",
       "      <td>s</td>\n",
       "      <td>s</td>\n",
       "      <td>s</td>\n",
       "      <td>s</td>\n",
       "      <td>s</td>\n",
       "      <td>5</td>\n",
       "      <td>s</td>\n",
       "      <td>s</td>\n",
       "      <td>s</td>\n",
       "      <td>s</td>\n",
       "      <td>s</td>\n",
       "      <td>2010</td>\n",
       "    </tr>\n",
       "    <tr>\n",
       "      <th>16</th>\n",
       "      <td>01M015</td>\n",
       "      <td>Hispanic</td>\n",
       "      <td>3</td>\n",
       "      <td>680</td>\n",
       "      <td>3</td>\n",
       "      <td>8</td>\n",
       "      <td>5</td>\n",
       "      <td>6</td>\n",
       "      <td>1</td>\n",
       "      <td>17</td>\n",
       "      <td>17.6</td>\n",
       "      <td>47.1</td>\n",
       "      <td>29.4</td>\n",
       "      <td>35.3</td>\n",
       "      <td>5.9</td>\n",
       "      <td>2010</td>\n",
       "    </tr>\n",
       "    <tr>\n",
       "      <th>17</th>\n",
       "      <td>01M015</td>\n",
       "      <td>White</td>\n",
       "      <td>3</td>\n",
       "      <td>s</td>\n",
       "      <td>s</td>\n",
       "      <td>s</td>\n",
       "      <td>s</td>\n",
       "      <td>s</td>\n",
       "      <td>s</td>\n",
       "      <td>2</td>\n",
       "      <td>s</td>\n",
       "      <td>s</td>\n",
       "      <td>s</td>\n",
       "      <td>s</td>\n",
       "      <td>s</td>\n",
       "      <td>2010</td>\n",
       "    </tr>\n",
       "    <tr>\n",
       "      <th>18</th>\n",
       "      <td>01M015</td>\n",
       "      <td>Asian</td>\n",
       "      <td>3</td>\n",
       "      <td>s</td>\n",
       "      <td>s</td>\n",
       "      <td>s</td>\n",
       "      <td>s</td>\n",
       "      <td>s</td>\n",
       "      <td>s</td>\n",
       "      <td>3</td>\n",
       "      <td>s</td>\n",
       "      <td>s</td>\n",
       "      <td>s</td>\n",
       "      <td>s</td>\n",
       "      <td>s</td>\n",
       "      <td>2011</td>\n",
       "    </tr>\n",
       "    <tr>\n",
       "      <th>19</th>\n",
       "      <td>01M015</td>\n",
       "      <td>Black</td>\n",
       "      <td>3</td>\n",
       "      <td>s</td>\n",
       "      <td>s</td>\n",
       "      <td>s</td>\n",
       "      <td>s</td>\n",
       "      <td>s</td>\n",
       "      <td>s</td>\n",
       "      <td>5</td>\n",
       "      <td>s</td>\n",
       "      <td>s</td>\n",
       "      <td>s</td>\n",
       "      <td>s</td>\n",
       "      <td>s</td>\n",
       "      <td>2011</td>\n",
       "    </tr>\n",
       "  </tbody>\n",
       "</table>\n",
       "</div>"
      ],
      "text/plain": [
       "       dbn demographic grade mean_scale_score num_level_1 num_level_2  \\\n",
       "0   01M015       Asian     3                s           s           s   \n",
       "1   01M015       Black     3              662           0           3   \n",
       "2   01M015    Hispanic     3              670           1           8   \n",
       "3   01M015       Asian     3                s           s           s   \n",
       "4   01M015       Black     3                s           s           s   \n",
       "5   01M015    Hispanic     3              678           0           1   \n",
       "6   01M015       White     3                s           s           s   \n",
       "7   01M015       Asian     3                s           s           s   \n",
       "8   01M015       Black     3              652           0           3   \n",
       "9   01M015    Hispanic     3              671           0           3   \n",
       "10  01M015       White     3                s           s           s   \n",
       "11  01M015       Asian     3                s           s           s   \n",
       "12  01M015       Black     3              668           0           1   \n",
       "13  01M015    Hispanic     3              667           0           3   \n",
       "14  01M015       Asian     3                s           s           s   \n",
       "15  01M015       Black     3                s           s           s   \n",
       "16  01M015    Hispanic     3              680           3           8   \n",
       "17  01M015       White     3                s           s           s   \n",
       "18  01M015       Asian     3                s           s           s   \n",
       "19  01M015       Black     3                s           s           s   \n",
       "\n",
       "   num_level_3 num_level_3_and_4 num_level_4  number_tested pct_level_1  \\\n",
       "0            s                 s           s              3           s   \n",
       "1            9                 9           0             12           0   \n",
       "2           10                15           5             24         4.2   \n",
       "3            s                 s           s              3           s   \n",
       "4            s                 s           s              4           s   \n",
       "5           19                22           3             23           0   \n",
       "6            s                 s           s              1           s   \n",
       "7            s                 s           s              1           s   \n",
       "8            5                 5           0              8           0   \n",
       "9           23                24           1             27           0   \n",
       "10           s                 s           s              1           s   \n",
       "11           s                 s           s              2           s   \n",
       "12          12                12           0             13           0   \n",
       "13          12                13           1             16           0   \n",
       "14           s                 s           s              2           s   \n",
       "15           s                 s           s              5           s   \n",
       "16           5                 6           1             17        17.6   \n",
       "17           s                 s           s              2           s   \n",
       "18           s                 s           s              3           s   \n",
       "19           s                 s           s              5           s   \n",
       "\n",
       "   pct_level_2 pct_level_3 pct_level_3_and_4 pct_level_4  year  \n",
       "0            s           s                 s           s  2006  \n",
       "1           25          75                75           0  2006  \n",
       "2         33.3        41.7              62.5        20.8  2006  \n",
       "3            s           s                 s           s  2007  \n",
       "4            s           s                 s           s  2007  \n",
       "5          4.3        82.6              95.7          13  2007  \n",
       "6            s           s                 s           s  2007  \n",
       "7            s           s                 s           s  2008  \n",
       "8         37.5        62.5              62.5           0  2008  \n",
       "9         11.1        85.2              88.9         3.7  2008  \n",
       "10           s           s                 s           s  2008  \n",
       "11           s           s                 s           s  2009  \n",
       "12         7.7        92.3              92.3           0  2009  \n",
       "13        18.8          75              81.3         6.3  2009  \n",
       "14           s           s                 s           s  2010  \n",
       "15           s           s                 s           s  2010  \n",
       "16        47.1        29.4              35.3         5.9  2010  \n",
       "17           s           s                 s           s  2010  \n",
       "18           s           s                 s           s  2011  \n",
       "19           s           s                 s           s  2011  "
      ]
     },
     "execution_count": 9,
     "metadata": {},
     "output_type": "execute_result"
    }
   ],
   "source": [
    "math.head(20)"
   ]
  },
  {
   "cell_type": "code",
   "execution_count": null,
   "metadata": {
    "collapsed": true
   },
   "outputs": [],
   "source": []
  },
  {
   "cell_type": "code",
   "execution_count": null,
   "metadata": {
    "collapsed": true
   },
   "outputs": [],
   "source": []
  },
  {
   "cell_type": "code",
   "execution_count": null,
   "metadata": {
    "collapsed": true
   },
   "outputs": [],
   "source": []
  },
  {
   "cell_type": "code",
   "execution_count": null,
   "metadata": {
    "collapsed": true
   },
   "outputs": [],
   "source": []
  },
  {
   "cell_type": "code",
   "execution_count": null,
   "metadata": {
    "collapsed": true
   },
   "outputs": [],
   "source": []
  },
  {
   "cell_type": "code",
   "execution_count": null,
   "metadata": {
    "collapsed": true
   },
   "outputs": [],
   "source": []
  },
  {
   "cell_type": "markdown",
   "metadata": {},
   "source": [
    "### Climate Data\n",
    "\n",
    "![](images/worldbank.svg)\n",
    "\n",
    "The World Bank has an API that allows access to a large amount of climate data.  Here is a snippet from the documentation:\n",
    "\n",
    ">**About the Climate Data API**\n",
    "\n",
    "    The Climate Data API provides programmatic access to most of the climate data used on the World Bank’s Climate Change Knowledge Portal. Web developers can use this API to access the knowledge portal’s data in real time to support their own applications, so long as they abide by the World Bank’s Terms of Use.\n",
    "\n",
    "\n"
   ]
  },
  {
   "cell_type": "code",
   "execution_count": 21,
   "metadata": {
    "collapsed": true
   },
   "outputs": [],
   "source": [
    "url = 'http://climatedataapi.worldbank.org/climateweb/rest/v1/country/cru/tas/year/CAN.csv'"
   ]
  },
  {
   "cell_type": "code",
   "execution_count": 22,
   "metadata": {
    "collapsed": true
   },
   "outputs": [],
   "source": [
    "canada = requests.get(url)"
   ]
  },
  {
   "cell_type": "code",
   "execution_count": 23,
   "metadata": {},
   "outputs": [
    {
     "data": {
      "text/plain": [
       "<Response [200]>"
      ]
     },
     "execution_count": 23,
     "metadata": {},
     "output_type": "execute_result"
    }
   ],
   "source": [
    "canada"
   ]
  },
  {
   "cell_type": "code",
   "execution_count": 25,
   "metadata": {},
   "outputs": [
    {
     "data": {
      "text/plain": [
       "u'year,data\\n1901,-7.67241907119751\\n1902,-7.862711429595947\\n1903,-7.910782814025879\\n1904,-8.155729293823242\\n1905,-7.547311305999756\\n1906,-7.684103488922119\\n1907,-8.413553237915039\\n1908,-7.79092931747436'"
      ]
     },
     "execution_count": 25,
     "metadata": {},
     "output_type": "execute_result"
    }
   ],
   "source": [
    "canada.text[:199]"
   ]
  },
  {
   "cell_type": "code",
   "execution_count": 18,
   "metadata": {},
   "outputs": [
    {
     "ename": "AttributeError",
     "evalue": "'module' object has no attribute 'read_'",
     "output_type": "error",
     "traceback": [
      "\u001b[0;31m---------------------------------------------------------------------------\u001b[0m",
      "\u001b[0;31mAttributeError\u001b[0m                            Traceback (most recent call last)",
      "\u001b[0;32m<ipython-input-18-ca187ad8b437>\u001b[0m in \u001b[0;36m<module>\u001b[0;34m()\u001b[0m\n\u001b[0;32m----> 1\u001b[0;31m \u001b[0mdf\u001b[0m \u001b[0;34m=\u001b[0m \u001b[0mpd\u001b[0m\u001b[0;34m.\u001b[0m\u001b[0mread_\u001b[0m\u001b[0;34m(\u001b[0m\u001b[0mcanada\u001b[0m\u001b[0;34m.\u001b[0m\u001b[0mtext\u001b[0m\u001b[0;34m)\u001b[0m\u001b[0;34m\u001b[0m\u001b[0m\n\u001b[0m",
      "\u001b[0;31mAttributeError\u001b[0m: 'module' object has no attribute 'read_'"
     ]
    }
   ],
   "source": [
    "df = pd.read_(canada.text)"
   ]
  },
  {
   "cell_type": "code",
   "execution_count": 15,
   "metadata": {},
   "outputs": [
    {
     "ename": "NameError",
     "evalue": "name 'df' is not defined",
     "output_type": "error",
     "traceback": [
      "\u001b[0;31m---------------------------------------------------------------------------\u001b[0m",
      "\u001b[0;31mNameError\u001b[0m                                 Traceback (most recent call last)",
      "\u001b[0;32m<ipython-input-15-2569c44faf66>\u001b[0m in \u001b[0;36m<module>\u001b[0;34m()\u001b[0m\n\u001b[0;32m----> 1\u001b[0;31m \u001b[0mdf\u001b[0m\u001b[0;34m.\u001b[0m\u001b[0mhead\u001b[0m\u001b[0;34m(\u001b[0m\u001b[0;34m)\u001b[0m\u001b[0;34m\u001b[0m\u001b[0m\n\u001b[0m",
      "\u001b[0;31mNameError\u001b[0m: name 'df' is not defined"
     ]
    }
   ],
   "source": [
    "df.head()"
   ]
  },
  {
   "cell_type": "code",
   "execution_count": 17,
   "metadata": {},
   "outputs": [
    {
     "ename": "ValueError",
     "evalue": "DataFrame constructor not properly called!",
     "output_type": "error",
     "traceback": [
      "\u001b[0;31m---------------------------------------------------------------------------\u001b[0m",
      "\u001b[0;31mValueError\u001b[0m                                Traceback (most recent call last)",
      "\u001b[0;32m<ipython-input-17-9d5b746d4789>\u001b[0m in \u001b[0;36m<module>\u001b[0;34m()\u001b[0m\n\u001b[0;32m----> 1\u001b[0;31m \u001b[0mframe\u001b[0m \u001b[0;34m=\u001b[0m \u001b[0mpd\u001b[0m\u001b[0;34m.\u001b[0m\u001b[0mDataFrame\u001b[0m\u001b[0;34m(\u001b[0m\u001b[0mcanada\u001b[0m\u001b[0;34m.\u001b[0m\u001b[0mtext\u001b[0m\u001b[0;34m)\u001b[0m\u001b[0;34m\u001b[0m\u001b[0m\n\u001b[0m",
      "\u001b[0;32m/Users/Kyler/anaconda2/lib/python2.7/site-packages/pandas/core/frame.pyc\u001b[0m in \u001b[0;36m__init__\u001b[0;34m(self, data, index, columns, dtype, copy)\u001b[0m\n\u001b[1;32m    352\u001b[0m                                          copy=False)\n\u001b[1;32m    353\u001b[0m             \u001b[0;32melse\u001b[0m\u001b[0;34m:\u001b[0m\u001b[0;34m\u001b[0m\u001b[0m\n\u001b[0;32m--> 354\u001b[0;31m                 \u001b[0;32mraise\u001b[0m \u001b[0mValueError\u001b[0m\u001b[0;34m(\u001b[0m\u001b[0;34m'DataFrame constructor not properly called!'\u001b[0m\u001b[0;34m)\u001b[0m\u001b[0;34m\u001b[0m\u001b[0m\n\u001b[0m\u001b[1;32m    355\u001b[0m \u001b[0;34m\u001b[0m\u001b[0m\n\u001b[1;32m    356\u001b[0m         \u001b[0mNDFrame\u001b[0m\u001b[0;34m.\u001b[0m\u001b[0m__init__\u001b[0m\u001b[0;34m(\u001b[0m\u001b[0mself\u001b[0m\u001b[0;34m,\u001b[0m \u001b[0mmgr\u001b[0m\u001b[0;34m,\u001b[0m \u001b[0mfastpath\u001b[0m\u001b[0;34m=\u001b[0m\u001b[0mTrue\u001b[0m\u001b[0;34m)\u001b[0m\u001b[0;34m\u001b[0m\u001b[0m\n",
      "\u001b[0;31mValueError\u001b[0m: DataFrame constructor not properly called!"
     ]
    }
   ],
   "source": [
    "frame = pd.DataFrame(canada.text)"
   ]
  },
  {
   "cell_type": "code",
   "execution_count": 29,
   "metadata": {},
   "outputs": [
    {
     "data": {
      "text/plain": [
       "'year,data\\n1901,-7.67241907119751\\n1902,-7.862711429595947\\n1903,-7.910782814025879\\n1904,-8.155729293823242\\n1905,-7.547311305999756\\n1906,-7.684103488922119\\n1907,-8.413553237915039\\n1908,-7.790929317474365\\n1909,-8.23930549621582\\n1910,-7.774611473083496\\n1911,-8.114446640014648\\n1912,-7.885402679443359\\n1913,-7.987940311431885\\n1914,-7.965937614440918\\n1915,-7.144039154052734\\n1916,-8.132978439331055\\n1917,-8.499914169311523\\n1918,-8.204662322998047\\n1919,-8.035985946655273\\n1920,-7.830679893493652\\n1921,-7.685777187347412\\n1922,-8.334989547729492\\n1923,-8.022125244140625\\n1924,-7.574568271636963\\n1925,-7.951625823974609\\n1926,-7.792789459228516\\n1927,-7.961727142333984\\n1928,-7.237975120544434\\n1929,-8.123651504516602\\n1930,-7.302305698394775\\n1931,-6.646339416503906\\n1932,-7.821688652038574\\n1933,-8.693134307861328\\n1934,-7.964327335357666\\n1935,-8.166967391967773\\n1936,-8.59422492980957\\n1937,-7.3392534255981445\\n1938,-6.856348991394043\\n1939,-7.669107913970947\\n1940,-6.799381256103516\\n1941,-7.233104705810547\\n1942,-7.097812652587891\\n1943,-7.2231879234313965\\n1944,-6.603946685791016\\n1945,-7.646345615386963\\n1946,-7.739509582519531\\n1947,-7.161524295806885\\n1948,-7.659969329833984\\n1949,-7.696352958679199\\n1950,-8.517829895019531\\n1951,-7.903929710388184\\n1952,-6.680769920349121\\n1953,-6.7539520263671875\\n1954,-7.334064483642578\\n1955,-7.586000919342041\\n1956,-8.27430534362793\\n1957,-7.763300895690918\\n1958,-6.903257846832275\\n1959,-7.8713836669921875\\n1960,-6.951033115386963\\n1961,-7.946412086486816\\n1962,-7.465360164642334\\n1963,-7.363328456878662\\n1964,-8.241130828857422\\n1965,-8.078269958496094\\n1966,-7.83267879486084\\n1967,-7.973592281341553\\n1968,-7.3681206703186035\\n1969,-7.0392913818359375\\n1970,-7.720573425292969\\n1971,-7.469780921936035\\n1972,-9.525187492370605\\n1973,-6.853341579437256\\n1974,-8.428787231445312\\n1975,-7.621856689453125\\n1976,-7.588895320892334\\n1977,-6.557257652282715\\n1978,-7.993335723876953\\n1979,-7.845717430114746\\n1980,-7.049171447753906\\n1981,-5.506665229797363\\n1982,-8.5137939453125\\n1983,-7.463536262512207\\n1984,-7.414198398590088\\n1985,-7.432916164398193\\n1986,-7.71035099029541\\n1987,-6.4537835121154785\\n1988,-6.610030174255371\\n1989,-7.706485748291016\\n1990,-7.6779985427856445\\n1991,-7.095147132873535\\n1992,-7.697887420654297\\n1993,-6.986419677734375\\n1994,-6.888780117034912\\n1995,-6.850322723388672\\n1996,-7.337457180023193\\n1997,-6.88342809677124\\n1998,-5.186192989349365\\n1999,-5.975519180297852\\n2000,-6.7265448570251465\\n2001,-5.930727958679199\\n2002,-6.852164268493652\\n2003,-6.402592658996582\\n2004,-7.529717445373535\\n2005,-5.863758563995361\\n2006,-5.543209552764893\\n2007,-6.819293975830078\\n2008,-7.2008957862854\\n2009,-6.997011661529541\\n2010,-4.703649520874023\\n2011,-5.9335737228393555\\n2012,-5.714600563049316\\n'"
      ]
     },
     "execution_count": 29,
     "metadata": {},
     "output_type": "execute_result"
    }
   ],
   "source": [
    "canada.text"
   ]
  },
  {
   "cell_type": "markdown",
   "metadata": {},
   "source": [
    "### Using the Documentation\n",
    "\n",
    "![](images/wbdata.png)\n",
    "\n",
    "Seems this is not so easy.  Luckily, the climate data is also available as part of the `wbdata` package.  Use the documentation to pull and analyze data related to Climate indicators, or a different choice using the documentation at: http://wbdata.readthedocs.io/en/latest/."
   ]
  },
  {
   "cell_type": "code",
   "execution_count": null,
   "metadata": {
    "collapsed": true
   },
   "outputs": [],
   "source": []
  },
  {
   "cell_type": "code",
   "execution_count": null,
   "metadata": {
    "collapsed": true
   },
   "outputs": [],
   "source": []
  },
  {
   "cell_type": "code",
   "execution_count": null,
   "metadata": {
    "collapsed": true
   },
   "outputs": [],
   "source": []
  },
  {
   "cell_type": "code",
   "execution_count": null,
   "metadata": {
    "collapsed": true
   },
   "outputs": [],
   "source": []
  }
 ],
 "metadata": {
  "kernelspec": {
   "display_name": "Python 2",
   "language": "python",
   "name": "python2"
  },
  "language_info": {
   "codemirror_mode": {
    "name": "ipython",
    "version": 2
   },
   "file_extension": ".py",
   "mimetype": "text/x-python",
   "name": "python",
   "nbconvert_exporter": "python",
   "pygments_lexer": "ipython2",
   "version": "2.7.14"
  }
 },
 "nbformat": 4,
 "nbformat_minor": 2
}

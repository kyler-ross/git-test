{
 "cells": [
  {
   "cell_type": "markdown",
   "metadata": {},
   "source": [
    "# Data and Design with Python\n",
    "\n",
    "**OVERVIEW**\n",
    "\n",
    "This short course aims to introduce participants to the Python computing language.  We will investigate the use of Python to perform data analysis, access and structure information from the web, and build and deploy applications like web pages and message boards using Django.  Students will be expected to complete a small project for each weeks topics described below."
   ]
  },
  {
   "cell_type": "markdown",
   "metadata": {},
   "source": [
    "### Important Material Locations\n",
    "\n",
    "- **Course Documentation**:  http://data-and-design.readthedocs.io/en/latest/\n",
    "- **Github Repository**: https://github.com/jfkoehler/data-design/tree/master/source\n",
    "- **Slack Channel**: https://datadesignpython.slack.com/\n",
    "- **Stack Exchange**: https://stackexchange.com/\n"
   ]
  },
  {
   "cell_type": "markdown",
   "metadata": {},
   "source": [
    "### Topics\n",
    "\n",
    "- **Introduction to Data and Visualizations**: The first class will focus on using Pandas and Seaborn to explore data in `.csv` files and through API's.  We emphasize the use of the computer to explore the data and look for patterns and differences.  Our first project involves writing an analysis of New York City's $8^{\\text{th}}$ grade mathematics scores.\n",
    "\n",
    "   - [Introduction to Pandas and Seaborn](02-introPandas.ipynb)\n",
    "   - [Pandas and Seaborn](03-datafiles.ipynb)\n",
    "   - [Assignment: Access and Analyze Data](04-ProjectA.ipynb)\n",
    "   \n",
    "- **Introduction to Web Scraping and NLP**: Today, we investigate the use of webscraping to pull and clean data from websites.  In addition to quantitative data, we begin to explore how to analyze textual data using the NLTK library.  Our second project involves scraping and analyzing the language used by two different news organizations reporting on the same topic.\n",
    "\n",
    "  - Introduction to webscraping\n",
    "  - Scraping Text and NLTK\n",
    "  - Assignment: Who's News?\n",
    "  \n",
    "- **Web Crawling and Machine Learning**: This session will advance our web scraping with the use of `scrapy` to crawl multiple webpages.  From here, we will investigate contemporary data analysis paradigms through machine learning with NLP.  Our project involves crawling sites of interest and deploying ML approaches in language processing.\n",
    "\n",
    "  - Webcrawling with Scrapy\n",
    "  - Machine Learning on Text\n",
    "  - Assignment: Crawling Twitter\n",
    "  \n",
    "- **Web Design with Django**: In this workshop, we will use the Django framework to design and deploy a basic web application.  Our assignment involves customizing and extending our base blog framework.\n",
    "\n",
    "  - Basic WebSite with Django\n",
    "  - Applications with Django\n",
    "  - Assignment: Blog with Django\n",
    "  \n",
    "- **Bots and Python**: This workshop will focus on the use of Python to build and deploy a simple bot.  Famous from the recent election cycle, we focus on how to automate communication with individuals on the web.  Our assignment involves the development and deployment of our own bot.\n",
    "\n",
    "  - Bot Basics\n",
    "  - Deploying a Bot\n",
    "  - Assignment: Make your Bot"
   ]
  }
 ],
 "metadata": {
  "kernelspec": {
   "display_name": "Python 2",
   "language": "python",
   "name": "python2"
  },
  "language_info": {
   "codemirror_mode": {
    "name": "ipython",
    "version": 2
   },
   "file_extension": ".py",
   "mimetype": "text/x-python",
   "name": "python",
   "nbconvert_exporter": "python",
   "pygments_lexer": "ipython2",
   "version": "2.7.14"
  }
 },
 "nbformat": 4,
 "nbformat_minor": 2
}

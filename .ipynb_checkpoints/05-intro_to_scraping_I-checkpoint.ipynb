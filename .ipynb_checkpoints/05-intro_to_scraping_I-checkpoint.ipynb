{
 "cells": [
  {
   "cell_type": "markdown",
   "metadata": {},
   "source": [
    "# Introduction to Web Scraping\n",
    "\n",
    "**GOALS**: \n",
    "\n",
    "- Introduce structure of webpage \n",
    "- Use requests to get website data\n",
    "- Use Beautiful Soup to parse basic HTML page\n",
    "\n",
    "## What is a website\n",
    "\n",
    "Behind every website is HTML code.  This HTML code is accessible to you on the internet.  If we navigate to a website that contains 50 interesting facts about Kanye West (http://www.boomsbeat.com/articles/2192/20140403/50-interesting-facts-about-kanye-west-had-a-near-death-experience-in-2002-his-stylist-went-to-yale.htm), we can view the HTML behind it using the source code.  \n",
    "\n",
    "I'm using a macintosh computer and browsing with chrome.  To get the source code I hit `control` and click on the page to see the page source option.  Other browsers are similar.  The result will be a new tab containing HTML code.  Both are shown below.\n",
    "\n",
    "<img src=\"images/kanye_web.png\" style=\"float: left; width: 45%; margin-right: 1%; margin-bottom: 0.5em;\"> <img src=\"images/kanye_html.png\" style=\"float: right; width: 45%; margin-right: 1%; margin-bottom: 0.5em;\">\n",
    "\n"
   ]
  },
  {
   "cell_type": "markdown",
   "metadata": {},
   "source": [
    "## HTML Tags\n",
    "\n",
    "Tags are used to identify different objects on a website, and every tag has the same structure.  For example, to write a paragraph on a webpage we would use the paragraph tags and put our text between the tags, as shown below.\n",
    "\n",
    "```html\n",
    "<p>\n",
    "This is where my text would go.\n",
    "</p>\n",
    "```\n",
    "\n",
    "Here, the `<p>` starts the paragraph and the `</p>` ends the paragraph.  Tags can be embedded within other tags.  If we wanted to make a word bold and insert an image within the paragraph, we could write the following HTML code.\n",
    "\n",
    "```html\n",
    "<p>\n",
    "This is a <strong>heavy</strong> paragraph.  Here's a heavy picture.\n",
    "<img src=\"images/heavy_pic.jpg\"/img>\n",
    "</p>\n",
    "```"
   ]
  },
  {
   "cell_type": "markdown",
   "metadata": {},
   "source": [
    "Also, tags may be given attributes.  This may be used to apply a style using CSS.  For example, the first fact about Kanye uses the `dir` attribute, and it was named `ltr`.  This differentiates it from the opening paragraph that uses no attribute.\n",
    "\n",
    "```html\n",
    "<div class=\"caption\">Source: Flickr</div>\n",
    "</div>\n",
    "<p>Kanye West is a Grammy-winning rapper who is currently engaged to Kim Kardashian and he is well known for his outrageous statements and for his broad musical palette.</p>\n",
    "<ol>\n",
    "<li dir=\"ltr\">\n",
    "<p dir=\"ltr\">Kanye Omari West was born June 8, 1977 in Atlanta.</p>\n",
    "```\n",
    "\n",
    "We can use Python to pull the HTML of a webpage into a Jupyter notebook, and then use libraries with functions that know how to read HTML.  We will use the attributes to further fine tune parsing the pieces of interest on the webpage.  "
   ]
  },
  {
   "cell_type": "markdown",
   "metadata": {},
   "source": [
    "## Getting the HTML with Requests\n",
    "\n",
    "The requests library can be used to fetch the HTML content of our website.  We will assign the content of the webpage to a variable k.  We can peek at this after, printing the first 400 characters of the request."
   ]
  },
  {
   "cell_type": "code",
   "execution_count": 4,
   "metadata": {
    "collapsed": true
   },
   "outputs": [],
   "source": [
    "import requests\n",
    "k = requests.get('http://www.boomsbeat.com/articles/2192/20140403/50-interesting-facts-about-kanye-west-had-a-near-death-experience-in-2002-his-stylist-went-to-yale.htm')"
   ]
  },
  {
   "cell_type": "code",
   "execution_count": 5,
   "metadata": {},
   "outputs": [
    {
     "name": "stdout",
     "output_type": "stream",
     "text": [
      "<!DOCTYPE html>\n",
      "<html>\n",
      "<head>\n",
      "<meta charset=\"utf-8\">\n",
      "<title>50 interesting facts about Kanye West: Had a near death-experience in 2002, his stylist went to Yale : People : BOOMSbeat</title>\n",
      "<meta content=\"width=device-width\" name=\"viewport\">\n",
      "\n",
      "<meta name=\"Keywords\" content=\"Kanye West, Kanye West facts, Kanye West net worth, Kanye West full name\" />\n",
      "<meta name=\"Description\" content=\"Kanye West is a\n"
     ]
    }
   ],
   "source": [
    "print(k.text[:400])"
   ]
  },
  {
   "cell_type": "markdown",
   "metadata": {},
   "source": [
    "As we wanted, we have all the HTML content that we saw in our source view."
   ]
  },
  {
   "cell_type": "markdown",
   "metadata": {},
   "source": [
    "### Parsing HTML with Beautiful Soup\n",
    "\n",
    "Now, we will use the Beautiful Soup library to parse the HTML.  Beautiful soup knows how to read the HTML and has many functions we can use to pull specific pieces of interest out.  To begin, we turn our request object into a beautiful soup object named `soup`."
   ]
  },
  {
   "cell_type": "code",
   "execution_count": 6,
   "metadata": {
    "collapsed": true
   },
   "outputs": [],
   "source": [
    "from bs4 import BeautifulSoup\n",
    "soup = BeautifulSoup(k.text, 'html.parser')"
   ]
  },
  {
   "cell_type": "markdown",
   "metadata": {},
   "source": [
    "Now, let us take a look at the source again and locate the structure surrounding the interesting facts.  By searching on the source page for the first fact, I find the following."
   ]
  },
  {
   "cell_type": "markdown",
   "metadata": {},
   "source": [
    "   ![](images/kanye_sourced.png)"
   ]
  },
  {
   "cell_type": "markdown",
   "metadata": {},
   "source": [
    "Here, it's important to notice that the facts lie inside `<p>` paragraph tags.  These tags also have an attribute `dir = \"ltr\"`.  We can use beautiful soup to locate all these instances.  If we are correct, we should have 50 interesting facts."
   ]
  },
  {
   "cell_type": "code",
   "execution_count": 7,
   "metadata": {
    "collapsed": true
   },
   "outputs": [],
   "source": [
    "facts = soup.find_all('p', attrs={'dir':'ltr'})"
   ]
  },
  {
   "cell_type": "code",
   "execution_count": 8,
   "metadata": {},
   "outputs": [
    {
     "data": {
      "text/plain": [
       "50"
      ]
     },
     "execution_count": 8,
     "metadata": {},
     "output_type": "execute_result"
    }
   ],
   "source": [
    "len(facts)"
   ]
  },
  {
   "cell_type": "code",
   "execution_count": 9,
   "metadata": {},
   "outputs": [
    {
     "data": {
      "text/plain": [
       "<p dir=\"ltr\">Kanye Omari West was born June 8, 1977 in Atlanta.</p>"
      ]
     },
     "execution_count": 9,
     "metadata": {},
     "output_type": "execute_result"
    }
   ],
   "source": [
    "facts[0]"
   ]
  },
  {
   "cell_type": "code",
   "execution_count": 10,
   "metadata": {},
   "outputs": [
    {
     "data": {
      "text/plain": [
       "'Kanye Omari West was born June 8, 1977 in Atlanta.'"
      ]
     },
     "execution_count": 10,
     "metadata": {},
     "output_type": "execute_result"
    }
   ],
   "source": [
    "facts[0].text"
   ]
  },
  {
   "cell_type": "markdown",
   "metadata": {},
   "source": [
    "### Creating a Table of Facts\n",
    "\n",
    "Now, we can create a table that contains each interesting fact.  To do so, we will start with an empty list and append each interesting fact using our above syntax and a for loop."
   ]
  },
  {
   "cell_type": "code",
   "execution_count": 13,
   "metadata": {
    "collapsed": true
   },
   "outputs": [],
   "source": [
    "table = []\n",
    "for i in facts:\n",
    "    fact = i.text\n",
    "    table.append(fact)"
   ]
  },
  {
   "cell_type": "code",
   "execution_count": 14,
   "metadata": {},
   "outputs": [
    {
     "data": {
      "text/plain": [
       "50"
      ]
     },
     "execution_count": 14,
     "metadata": {},
     "output_type": "execute_result"
    }
   ],
   "source": [
    "len(table)"
   ]
  },
  {
   "cell_type": "code",
   "execution_count": 20,
   "metadata": {},
   "outputs": [
    {
     "data": {
      "text/plain": [
       "['Kanye Omari West was born June 8, 1977 in Atlanta.',\n",
       " 'His father Ray West was a black panther in the 60s and 70s and he later became one of the first black photojournalists at the Atlanta-Journal Constitution and later became a Christian counselor. His mother Donda was English professor at Clark Atlanta University. He later moved to Chicago at the age of three when his parents divorced.',\n",
       " 'The name Kanye means \"the only one\" in Swahilli.',\n",
       " 'Kanye lived in China for more than a year with his mother when he was in fifth grade. His mother was a visiting professor there at the time and he joined her.',\n",
       " 'Kanye attended Chicago State University/Columbia College in Chicago.  He dropped out to pursue music which is why he named his 2004 debut album, \"The College Dropout.\"']"
      ]
     },
     "execution_count": 20,
     "metadata": {},
     "output_type": "execute_result"
    }
   ],
   "source": [
    "table[:5]"
   ]
  },
  {
   "cell_type": "markdown",
   "metadata": {},
   "source": [
    "### Pandas and DataFrames\n",
    "\n",
    "The standard library for data analysis in Python is Pandas.  Here, the typical row and column format for data used is called a DataFrame.  We can convert our table data to a dataframe as follows."
   ]
  },
  {
   "cell_type": "code",
   "execution_count": 21,
   "metadata": {
    "collapsed": true
   },
   "outputs": [],
   "source": [
    "import pandas as pd\n",
    "df = pd.DataFrame(table, columns=['Interesting Facts'])"
   ]
  },
  {
   "cell_type": "markdown",
   "metadata": {},
   "source": [
    "We can use the `head()` function to examine the top 5 rows of our new DataFrame."
   ]
  },
  {
   "cell_type": "code",
   "execution_count": 17,
   "metadata": {},
   "outputs": [
    {
     "data": {
      "text/html": [
       "<div>\n",
       "<table border=\"1\" class=\"dataframe\">\n",
       "  <thead>\n",
       "    <tr style=\"text-align: right;\">\n",
       "      <th></th>\n",
       "      <th>Interesting Facts</th>\n",
       "    </tr>\n",
       "  </thead>\n",
       "  <tbody>\n",
       "    <tr>\n",
       "      <th>0</th>\n",
       "      <td>Kanye Omari West was born June 8, 1977 in Atla...</td>\n",
       "    </tr>\n",
       "    <tr>\n",
       "      <th>1</th>\n",
       "      <td>His father Ray West was a black panther in the...</td>\n",
       "    </tr>\n",
       "    <tr>\n",
       "      <th>2</th>\n",
       "      <td>The name Kanye means \"the only one\" in Swahilli.</td>\n",
       "    </tr>\n",
       "    <tr>\n",
       "      <th>3</th>\n",
       "      <td>Kanye lived in China for more than a year with...</td>\n",
       "    </tr>\n",
       "    <tr>\n",
       "      <th>4</th>\n",
       "      <td>Kanye attended Chicago State University/Columb...</td>\n",
       "    </tr>\n",
       "  </tbody>\n",
       "</table>\n",
       "</div>"
      ],
      "text/plain": [
       "                                   Interesting Facts\n",
       "0  Kanye Omari West was born June 8, 1977 in Atla...\n",
       "1  His father Ray West was a black panther in the...\n",
       "2   The name Kanye means \"the only one\" in Swahilli.\n",
       "3  Kanye lived in China for more than a year with...\n",
       "4  Kanye attended Chicago State University/Columb..."
      ]
     },
     "execution_count": 17,
     "metadata": {},
     "output_type": "execute_result"
    }
   ],
   "source": [
    "df.head()"
   ]
  },
  {
   "cell_type": "markdown",
   "metadata": {},
   "source": [
    "#### Save our Data\n",
    "\n",
    "Now, we can convert the dataframe to a comma separated value file on our computer.  We could read this back in at any time as shown with the `read_csv` file."
   ]
  },
  {
   "cell_type": "code",
   "execution_count": 22,
   "metadata": {
    "collapsed": true
   },
   "outputs": [],
   "source": [
    "df.to_csv('kanye_facts.csv', index=False, enconding='utf-8')"
   ]
  },
  {
   "cell_type": "code",
   "execution_count": 23,
   "metadata": {
    "collapsed": true
   },
   "outputs": [],
   "source": [
    "df = pd.read_csv('kanye_facts.csv', encoding='utf-8')"
   ]
  },
  {
   "cell_type": "code",
   "execution_count": 24,
   "metadata": {},
   "outputs": [
    {
     "data": {
      "text/html": [
       "<div>\n",
       "<table border=\"1\" class=\"dataframe\">\n",
       "  <thead>\n",
       "    <tr style=\"text-align: right;\">\n",
       "      <th></th>\n",
       "      <th>Interesting Facts</th>\n",
       "    </tr>\n",
       "  </thead>\n",
       "  <tbody>\n",
       "    <tr>\n",
       "      <th>0</th>\n",
       "      <td>Kanye Omari West was born June 8, 1977 in Atla...</td>\n",
       "    </tr>\n",
       "    <tr>\n",
       "      <th>1</th>\n",
       "      <td>His father Ray West was a black panther in the...</td>\n",
       "    </tr>\n",
       "    <tr>\n",
       "      <th>2</th>\n",
       "      <td>The name Kanye means \"the only one\" in Swahilli.</td>\n",
       "    </tr>\n",
       "    <tr>\n",
       "      <th>3</th>\n",
       "      <td>Kanye lived in China for more than a year with...</td>\n",
       "    </tr>\n",
       "    <tr>\n",
       "      <th>4</th>\n",
       "      <td>Kanye attended Chicago State University/Columb...</td>\n",
       "    </tr>\n",
       "    <tr>\n",
       "      <th>5</th>\n",
       "      <td>Kanye's struggle to transition from producer t...</td>\n",
       "    </tr>\n",
       "    <tr>\n",
       "      <th>6</th>\n",
       "      <td>At the start of his music career, Kanye appare...</td>\n",
       "    </tr>\n",
       "  </tbody>\n",
       "</table>\n",
       "</div>"
      ],
      "text/plain": [
       "                                   Interesting Facts\n",
       "0  Kanye Omari West was born June 8, 1977 in Atla...\n",
       "1  His father Ray West was a black panther in the...\n",
       "2   The name Kanye means \"the only one\" in Swahilli.\n",
       "3  Kanye lived in China for more than a year with...\n",
       "4  Kanye attended Chicago State University/Columb...\n",
       "5  Kanye's struggle to transition from producer t...\n",
       "6  At the start of his music career, Kanye appare..."
      ]
     },
     "execution_count": 24,
     "metadata": {},
     "output_type": "execute_result"
    }
   ],
   "source": [
    "df.head(7)"
   ]
  }
 ],
 "metadata": {
  "kernelspec": {
   "display_name": "Python 3",
   "language": "python",
   "name": "python3"
  },
  "language_info": {
   "codemirror_mode": {
    "name": "ipython",
    "version": 3
   },
   "file_extension": ".py",
   "mimetype": "text/x-python",
   "name": "python",
   "nbconvert_exporter": "python",
   "pygments_lexer": "ipython3",
   "version": "3.6.3"
  }
 },
 "nbformat": 4,
 "nbformat_minor": 2
}

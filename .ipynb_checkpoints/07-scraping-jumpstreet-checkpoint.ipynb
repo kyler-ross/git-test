{
 "cells": [
  {
   "cell_type": "markdown",
   "metadata": {},
   "source": [
    "# Scraping the Street\n",
    "\n",
    "![](images/21_jump_street.png)\n",
    "\n",
    "One of the most important television shows of all time was **21 Jump Street**.  The show gave birth to stars like Johnny Depp, Richard Greico, and Holly Robinson Peete.  The show also spoke to the youth of the late 80's and early 90's with a crew of undercover cops tackling law breakers.  \n",
    "\n",
    "\n",
    "### Wikipedia List of Guest Stars\n",
    "\n",
    "![](images/wiki_jump.png)\n",
    "\n",
    "Wikipedia has a page containing information on the list of guest stars for five seasons of 21 Jump Street.  Our goal is to create a table with the information on all the guest stars.  "
   ]
  },
  {
   "cell_type": "code",
   "execution_count": null,
   "metadata": {
    "collapsed": true
   },
   "outputs": [],
   "source": []
  },
  {
   "cell_type": "code",
   "execution_count": null,
   "metadata": {
    "collapsed": true
   },
   "outputs": [],
   "source": []
  },
  {
   "cell_type": "code",
   "execution_count": 8,
   "metadata": {
    "collapsed": true
   },
   "outputs": [],
   "source": [
    "import requests\n",
    "from bs4 import BeautifulSoup"
   ]
  },
  {
   "cell_type": "code",
   "execution_count": 9,
   "metadata": {
    "collapsed": true
   },
   "outputs": [],
   "source": [
    "url = 'https://en.wikipedia.org/wiki/List_of_guest_stars_on_21_Jump_Street'"
   ]
  },
  {
   "cell_type": "code",
   "execution_count": 10,
   "metadata": {
    "collapsed": true
   },
   "outputs": [],
   "source": [
    "page = requests.get(url)"
   ]
  },
  {
   "cell_type": "code",
   "execution_count": 11,
   "metadata": {},
   "outputs": [
    {
     "data": {
      "text/plain": [
       "<Response [200]>"
      ]
     },
     "execution_count": 11,
     "metadata": {},
     "output_type": "execute_result"
    }
   ],
   "source": [
    "page"
   ]
  },
  {
   "cell_type": "code",
   "execution_count": 5,
   "metadata": {
    "collapsed": true
   },
   "outputs": [],
   "source": [
    "soup = BeautifulSoup(page.text, 'html.parser')"
   ]
  },
  {
   "cell_type": "code",
   "execution_count": 6,
   "metadata": {},
   "outputs": [
    {
     "data": {
      "text/plain": [
       "'List of guest stars on 21 Jump Street - Wikipedia'"
      ]
     },
     "execution_count": 6,
     "metadata": {},
     "output_type": "execute_result"
    }
   ],
   "source": [
    "soup.title.text"
   ]
  },
  {
   "cell_type": "code",
   "execution_count": 7,
   "metadata": {},
   "outputs": [
    {
     "data": {
      "text/plain": [
       "'List of guest stars on 21 Jump Street - Wikipedia'"
      ]
     },
     "execution_count": 7,
     "metadata": {},
     "output_type": "execute_result"
    }
   ],
   "source": [
    "soup.title.string"
   ]
  },
  {
   "cell_type": "code",
   "execution_count": 11,
   "metadata": {},
   "outputs": [
    {
     "data": {
      "text/plain": [
       "<a id=\"top\"></a>"
      ]
     },
     "execution_count": 11,
     "metadata": {},
     "output_type": "execute_result"
    }
   ],
   "source": [
    "soup.a"
   ]
  },
  {
   "cell_type": "code",
   "execution_count": 12,
   "metadata": {},
   "outputs": [
    {
     "data": {
      "text/plain": [
       "<div class=\"noprint\" id=\"mw-page-base\"></div>"
      ]
     },
     "execution_count": 12,
     "metadata": {},
     "output_type": "execute_result"
    }
   ],
   "source": [
    "soup.div"
   ]
  },
  {
   "cell_type": "code",
   "execution_count": 13,
   "metadata": {},
   "outputs": [
    {
     "data": {
      "text/plain": [
       "[<a id=\"top\"></a>,\n",
       " <a href=\"#mw-head\">navigation</a>,\n",
       " <a href=\"#p-search\">search</a>,\n",
       " <a class=\"mw-redirect\" href=\"/wiki/Television_personality\" title=\"Television personality\">television</a>,\n",
       " <a href=\"/wiki/Fox_Broadcasting_Company\" title=\"Fox Broadcasting Company\">Fox</a>,\n",
       " <a href=\"/wiki/21_Jump_Street\" title=\"21 Jump Street\">21 Jump Street</a>,\n",
       " <a href=\"#Season_1\"><span class=\"tocnumber\">1</span> <span class=\"toctext\">Season 1</span></a>,\n",
       " <a href=\"#Season_2\"><span class=\"tocnumber\">2</span> <span class=\"toctext\">Season 2</span></a>,\n",
       " <a href=\"#Season_3\"><span class=\"tocnumber\">3</span> <span class=\"toctext\">Season 3</span></a>,\n",
       " <a href=\"#Season_4\"><span class=\"tocnumber\">4</span> <span class=\"toctext\">Season 4</span></a>,\n",
       " <a href=\"#Season_5\"><span class=\"tocnumber\">5</span> <span class=\"toctext\">Season 5</span></a>,\n",
       " <a href=\"#See_also\"><span class=\"tocnumber\">6</span> <span class=\"toctext\">See also</span></a>,\n",
       " <a href=\"#References\"><span class=\"tocnumber\">7</span> <span class=\"toctext\">References</span></a>,\n",
       " <a href=\"/w/index.php?title=List_of_guest_stars_on_21_Jump_Street&amp;action=edit&amp;section=1\" title=\"Edit section: Season 1\">edit</a>,\n",
       " <a href=\"/wiki/Barney_Martin\" title=\"Barney Martin\">Barney Martin</a>,\n",
       " <a href=\"/wiki/Brandon_Douglas\" title=\"Brandon Douglas\">Brandon Douglas</a>,\n",
       " <a class=\"new\" href=\"/w/index.php?title=Reginald_T._Dorsey&amp;action=edit&amp;redlink=1\" title=\"Reginald T. Dorsey (page does not exist)\">Reginald T. Dorsey</a>,\n",
       " <a href=\"/wiki/Billy_Jayne\" title=\"Billy Jayne\">Billy Jayne</a>,\n",
       " <a href=\"/wiki/Steve_Antin\" title=\"Steve Antin\">Steve Antin</a>,\n",
       " <a href=\"/wiki/Traci_Lind\" title=\"Traci Lind\">Traci Lind</a>,\n",
       " <a href=\"/wiki/Leah_Ayres\" title=\"Leah Ayres\">Leah Ayres</a>,\n",
       " <a href=\"/wiki/Geoffrey_Blake_(actor)\" title=\"Geoffrey Blake (actor)\">Geoffrey Blake</a>,\n",
       " <a href=\"/wiki/Josh_Brolin\" title=\"Josh Brolin\">Josh Brolin</a>,\n",
       " <a class=\"new\" href=\"/w/index.php?title=Jamie_Bozian&amp;action=edit&amp;redlink=1\" title=\"Jamie Bozian (page does not exist)\">Jamie Bozian</a>,\n",
       " <a href=\"/wiki/John_D%27Aquino\" title=\"John D'Aquino\">John D'Aquino</a>,\n",
       " <a class=\"new\" href=\"/w/index.php?title=Troy_Byer&amp;action=edit&amp;redlink=1\" title=\"Troy Byer (page does not exist)\">Troy Byer</a>,\n",
       " <a href=\"/wiki/Lezlie_Deane\" title=\"Lezlie Deane\">Lezlie Deane</a>,\n",
       " <a href=\"/wiki/Blair_Underwood\" title=\"Blair Underwood\">Blair Underwood</a>,\n",
       " <a href=\"/wiki/Robert_Picardo\" title=\"Robert Picardo\">Robert Picardo</a>,\n",
       " <a href=\"/wiki/Scott_Schwartz\" title=\"Scott Schwartz\">Scott Schwartz</a>,\n",
       " <a href=\"/wiki/Liane_Curtis\" title=\"Liane Curtis\">Liane Curtis</a>,\n",
       " <a href=\"/wiki/Byron_Thames\" title=\"Byron Thames\">Byron Thames</a>,\n",
       " <a href=\"/wiki/Sherilyn_Fenn\" title=\"Sherilyn Fenn\">Sherilyn Fenn</a>,\n",
       " <a href=\"/wiki/Christopher_Heyerdahl\" title=\"Christopher Heyerdahl\">Christopher Heyerdahl</a>,\n",
       " <a href=\"/wiki/Kurtwood_Smith\" title=\"Kurtwood Smith\">Kurtwood Smith</a>,\n",
       " <a href=\"/wiki/Sarah_G._Buxton\" title=\"Sarah G. Buxton\">Sarah G. Buxton</a>,\n",
       " <a href=\"/wiki/Jason_Priestley\" title=\"Jason Priestley\">Jason Priestley</a>,\n",
       " <a href=\"/w/index.php?title=List_of_guest_stars_on_21_Jump_Street&amp;action=edit&amp;section=2\" title=\"Edit section: Season 2\">edit</a>,\n",
       " <a href=\"/wiki/Kurtwood_Smith\" title=\"Kurtwood Smith\">Kurtwood Smith</a>,\n",
       " <a href=\"/wiki/Ray_Walston\" title=\"Ray Walston\">Ray Walston</a>,\n",
       " <a href=\"/wiki/Pauly_Shore\" title=\"Pauly Shore\">Pauly Shore</a>,\n",
       " <a href=\"/wiki/Shannon_Tweed\" title=\"Shannon Tweed\">Shannon Tweed</a>,\n",
       " <a href=\"/wiki/Lochlyn_Munro\" title=\"Lochlyn Munro\">Lochlyn Munro</a>,\n",
       " <a href=\"/wiki/Mindy_Cohn\" title=\"Mindy Cohn\">Mindy Cohn</a>,\n",
       " <a href=\"/wiki/Kent_McCord\" title=\"Kent McCord\">Kent McCord</a>,\n",
       " <a href=\"/wiki/Don_S._Davis\" title=\"Don S. Davis\">Don S. Davis</a>,\n",
       " <a class=\"mw-redirect\" href=\"/wiki/Tom_Wright_(actor)\" title=\"Tom Wright (actor)\">Tom Wright</a>,\n",
       " <a href=\"/wiki/Jean_Sagal\" title=\"Jean Sagal\">Jean Sagal</a>,\n",
       " <a href=\"/wiki/Liz_Sagal\" title=\"Liz Sagal\">Liz Sagal</a>,\n",
       " <a href=\"/wiki/Deborah_Lacey\" title=\"Deborah Lacey\">Deborah Lacey</a>,\n",
       " <a href=\"/wiki/Bradford_English\" title=\"Bradford English\">Bradford English</a>,\n",
       " <a href=\"/wiki/Christina_Applegate\" title=\"Christina Applegate\">Christina Applegate</a>,\n",
       " <a href=\"/wiki/Peter_Berg\" title=\"Peter Berg\">Peter Berg</a>,\n",
       " <a href=\"/wiki/Gabriel_Jarret\" title=\"Gabriel Jarret\">Gabriel Jarret</a>,\n",
       " <a href=\"/wiki/Bruce_French_(actor)\" title=\"Bruce French (actor)\">Bruce French</a>,\n",
       " <a href=\"/wiki/Dann_Florek\" title=\"Dann Florek\">Dann Florek</a>,\n",
       " <a href=\"/wiki/Gregory_Itzin\" title=\"Gregory Itzin\">Gregory Itzin</a>,\n",
       " <a href=\"/wiki/Brad_Pitt\" title=\"Brad Pitt\">Brad Pitt</a>,\n",
       " <a href=\"/wiki/Don_S._Davis\" title=\"Don S. Davis\">Don S. Davis</a>,\n",
       " <a href=\"/wiki/Sam_Anderson\" title=\"Sam Anderson\">Sam Anderson</a>,\n",
       " <a href=\"/w/index.php?title=List_of_guest_stars_on_21_Jump_Street&amp;action=edit&amp;section=3\" title=\"Edit section: Season 3\">edit</a>,\n",
       " <a href=\"/wiki/Leo_Rossi\" title=\"Leo Rossi\">Leo Rossi</a>,\n",
       " <a href=\"/wiki/Peri_Gilpin\" title=\"Peri Gilpin\">Peri Gilpin</a>,\n",
       " <a href=\"/wiki/Kelly_Hu\" title=\"Kelly Hu\">Kelly Hu</a>,\n",
       " <a href=\"/wiki/Russell_Wong\" title=\"Russell Wong\">Russell Wong</a>,\n",
       " <a href=\"/wiki/Christopher_Titus\" title=\"Christopher Titus\">Christopher Titus</a>,\n",
       " <a href=\"/wiki/Dom_DeLuise\" title=\"Dom DeLuise\">Dom DeLuise</a>,\n",
       " <a class=\"new\" href=\"/w/index.php?title=Kehli_O%27Byrne&amp;action=edit&amp;redlink=1\" title=\"Kehli O'Byrne (page does not exist)\">Kehli O'Byrne</a>,\n",
       " <a href=\"/wiki/Larenz_Tate\" title=\"Larenz Tate\">Larenz Tate</a>,\n",
       " <a href=\"/wiki/Maia_Brewton\" title=\"Maia Brewton\">Maia Brewton</a>,\n",
       " <a href=\"/wiki/Michael_DeLuise\" title=\"Michael DeLuise\">Michael DeLuise</a>,\n",
       " <a href=\"/wiki/Mario_Van_Peebles\" title=\"Mario Van Peebles\">Mario Van Peebles</a>,\n",
       " <a href=\"#endnote_reference_name_A\">*</a>,\n",
       " <a href=\"/wiki/Bridget_Fonda\" title=\"Bridget Fonda\">Bridget Fonda</a>,\n",
       " <a href=\"/wiki/Conor_O%27Farrell\" title=\"Conor O'Farrell\">Conor O'Farrell</a>,\n",
       " <a href=\"/wiki/Andrew_Lauer\" title=\"Andrew Lauer\">Andrew Lauer</a>,\n",
       " <a class=\"new\" href=\"/w/index.php?title=Claude_Brooks&amp;action=edit&amp;redlink=1\" title=\"Claude Brooks (page does not exist)\">Claude Brooks</a>,\n",
       " <a href=\"/wiki/Margot_Rose\" title=\"Margot Rose\">Margot Rose</a>,\n",
       " <a href=\"/w/index.php?title=List_of_guest_stars_on_21_Jump_Street&amp;action=edit&amp;section=4\" title=\"Edit section: Season 4\">edit</a>,\n",
       " <a href=\"/wiki/Don_S._Davis\" title=\"Don S. Davis\">Don S. Davis</a>,\n",
       " <a href=\"/wiki/Robert_Romanus\" title=\"Robert Romanus\">Robert Romanus</a>,\n",
       " <a href=\"/wiki/Rob_Estes\" title=\"Rob Estes\">Rob Estes</a>,\n",
       " <a href=\"/wiki/Stu_Nahan\" title=\"Stu Nahan\">Stu Nahan</a>,\n",
       " <a href=\"/wiki/Mario_Van_Peebles\" title=\"Mario Van Peebles\">Mario Van Peebles</a>,\n",
       " <a href=\"#endnote_reference_name_A\">*</a>,\n",
       " <a href=\"/wiki/Thomas_Haden_Church\" title=\"Thomas Haden Church\">Thomas Haden Church</a>,\n",
       " <a href=\"/wiki/Billy_Warlock\" title=\"Billy Warlock\">Billy Warlock</a>,\n",
       " <a href=\"/wiki/Tony_Plana\" title=\"Tony Plana\">Tony Plana</a>,\n",
       " <a href=\"/wiki/Julie_Warner\" title=\"Julie Warner\">Julie Warner</a>,\n",
       " <a href=\"/wiki/Barbara_Tarbuck\" title=\"Barbara Tarbuck\">Barbara Tarbuck</a>,\n",
       " <a href=\"/wiki/Kamala_Lopez\" title=\"Kamala Lopez\">Kamala Lopez</a>,\n",
       " <a href=\"/wiki/Pamela_Adlon\" title=\"Pamela Adlon\">Pamela Adlon</a>,\n",
       " <a href=\"/wiki/Christine_Elise\" title=\"Christine Elise\">Christine Elise</a>,\n",
       " <a href=\"/wiki/Robyn_Lively\" title=\"Robyn Lively\">Robyn Lively</a>,\n",
       " <a href=\"/wiki/Vince_Vaughn\" title=\"Vince Vaughn\">Vince Vaughn</a>,\n",
       " <a href=\"/wiki/Mickey_Jones\" title=\"Mickey Jones\">Mickey Jones</a>,\n",
       " <a href=\"/wiki/Ray_Baker_(actor)\" title=\"Ray Baker (actor)\">Ray Baker</a>,\n",
       " <a href=\"/wiki/Keith_Coogan\" title=\"Keith Coogan\">Keith Coogan</a>,\n",
       " <a href=\"/wiki/Shannen_Doherty\" title=\"Shannen Doherty\">Shannen Doherty</a>,\n",
       " <a href=\"/wiki/Wallace_Langham\" title=\"Wallace Langham\">Wallace Langham</a>,\n",
       " <a href=\"/wiki/Rosie_Perez\" title=\"Rosie Perez\">Rosie Perez</a>,\n",
       " <a href=\"/wiki/Don_S._Davis\" title=\"Don S. Davis\">Don S. Davis</a>,\n",
       " <a href=\"/wiki/Chick_Hearn\" title=\"Chick Hearn\">Chick Hearn</a>,\n",
       " <a href=\"/wiki/Kareem_Abdul-Jabbar\" title=\"Kareem Abdul-Jabbar\">Kareem Abdul-Jabbar</a>,\n",
       " <a class=\"mw-redirect\" href=\"/wiki/John_Waters_(filmmaker)\" title=\"John Waters (filmmaker)\">John Waters</a>,\n",
       " <a href=\"/wiki/John_Pyper-Ferguson\" title=\"John Pyper-Ferguson\">John Pyper-Ferguson</a>,\n",
       " <a href=\"/wiki/Diedrich_Bader\" title=\"Diedrich Bader\">Diedrich Bader</a>,\n",
       " <a href=\"/wiki/Kelly_Perine\" title=\"Kelly Perine\">Kelly Perine</a>,\n",
       " <a href=\"/wiki/Kristin_Dattilo\" title=\"Kristin Dattilo\">Kristin Dattilo</a>,\n",
       " <a href=\"/w/index.php?title=List_of_guest_stars_on_21_Jump_Street&amp;action=edit&amp;section=5\" title=\"Edit section: Season 5\">edit</a>,\n",
       " <a href=\"/wiki/Lisa_Dean_Ryan\" title=\"Lisa Dean Ryan\">Lisa Dean Ryan</a>,\n",
       " <a href=\"/wiki/Scott_Grimes\" title=\"Scott Grimes\">Scott Grimes</a>,\n",
       " <a class=\"mw-redirect\" href=\"/wiki/Brigitta_Dau\" title=\"Brigitta Dau\">Brigitta Dau</a>,\n",
       " <a href=\"/wiki/Tony_Dakota\" title=\"Tony Dakota\">Tony Dakota</a>,\n",
       " <a href=\"/wiki/Perrey_Reeves\" title=\"Perrey Reeves\">Perrey Reeves</a>,\n",
       " <a class=\"new\" href=\"/w/index.php?title=Johannah_Newmarch&amp;action=edit&amp;redlink=1\" title=\"Johannah Newmarch (page does not exist)\">Johannah Newmarch</a>,\n",
       " <a href=\"/wiki/Richard_Leacock\" title=\"Richard Leacock\">Richard Leacock</a>,\n",
       " <a class=\"new\" href=\"/w/index.php?title=Pat_Bermel&amp;action=edit&amp;redlink=1\" title=\"Pat Bermel (page does not exist)\">Pat Bermel</a>,\n",
       " <a href=\"/wiki/Deanna_Milligan\" title=\"Deanna Milligan\">Deanna Milligan</a>,\n",
       " <a href=\"/wiki/Peter_Outerbridge\" title=\"Peter Outerbridge\">Peter Outerbridge</a>,\n",
       " <a class=\"new\" href=\"/w/index.php?title=Don_MacKay&amp;action=edit&amp;redlink=1\" title=\"Don MacKay (page does not exist)\">Don MacKay</a>,\n",
       " <a href=\"/wiki/Terence_Kelly_(actor)\" title=\"Terence Kelly (actor)\">Terence Kelly</a>,\n",
       " <a href=\"/wiki/Merrilyn_Gann\" title=\"Merrilyn Gann\">Merrilyn Gann</a>,\n",
       " <a href=\"/wiki/Ocean_Hellman\" title=\"Ocean Hellman\">Ocean Hellman</a>,\n",
       " <a href=\"/wiki/Lochlyn_Munro\" title=\"Lochlyn Munro\">Lochlyn Munro</a>,\n",
       " <a href=\"/wiki/Leslie_Carlson\" title=\"Leslie Carlson\">Leslie Carlson</a>,\n",
       " <a href=\"/wiki/David_DeLuise\" title=\"David DeLuise\">David DeLuise</a>,\n",
       " <a href=\"/wiki/Kamala_Lopez\" title=\"Kamala Lopez\">Kamala Lopez</a>,\n",
       " <a href=\"/wiki/Don_S._Davis\" title=\"Don S. Davis\">Don S. Davis</a>,\n",
       " <a href=\"/wiki/Jada_Pinkett_Smith\" title=\"Jada Pinkett Smith\">Jada Pinkett Smith</a>,\n",
       " <a href=\"#ref_reference_name_A\">^*</a>,\n",
       " <a href=\"/w/index.php?title=List_of_guest_stars_on_21_Jump_Street&amp;action=edit&amp;section=6\" title=\"Edit section: See also\">edit</a>,\n",
       " <a href=\"/wiki/Jump_Street_(franchise)\" title=\"Jump Street (franchise)\">Jump Street</a>,\n",
       " <a href=\"/w/index.php?title=List_of_guest_stars_on_21_Jump_Street&amp;action=edit&amp;section=7\" title=\"Edit section: References\">edit</a>,\n",
       " <a class=\"external text\" href=\"http://www.imdb.com/title/tt0092312/\" rel=\"nofollow\"><i>21 Jump Street</i></a>,\n",
       " <a href=\"/wiki/IMDb\" title=\"IMDb\">IMDb</a>,\n",
       " <a href=\"/wiki/Template:21_Jump_Street\" title=\"Template:21 Jump Street\"><abbr style=\";;background:none transparent;border:none;-moz-box-shadow:none;-webkit-box-shadow:none;box-shadow:none;\" title=\"View this template\">v</abbr></a>,\n",
       " <a href=\"/wiki/Template_talk:21_Jump_Street\" title=\"Template talk:21 Jump Street\"><abbr style=\";;background:none transparent;border:none;-moz-box-shadow:none;-webkit-box-shadow:none;box-shadow:none;\" title=\"Discuss this template\">t</abbr></a>,\n",
       " <a class=\"external text\" href=\"//en.wikipedia.org/w/index.php?title=Template:21_Jump_Street&amp;action=edit\"><abbr style=\";;background:none transparent;border:none;-moz-box-shadow:none;-webkit-box-shadow:none;box-shadow:none;\" title=\"Edit this template\">e</abbr></a>,\n",
       " <a href=\"/wiki/Jump_Street_(franchise)\" title=\"Jump Street (franchise)\">Jump Street</a>,\n",
       " <a href=\"/wiki/21_Jump_Street\" title=\"21 Jump Street\">21 Jump Street</a>,\n",
       " <a href=\"/wiki/List_of_21_Jump_Street_episodes\" title=\"List of 21 Jump Street episodes\">episodes</a>,\n",
       " <a class=\"mw-selflink selflink\">guest stars</a>,\n",
       " <a href=\"/wiki/Booker_(TV_series)\" title=\"Booker (TV series)\">Booker</a>,\n",
       " <a href=\"/wiki/21_Jump_Street_(film)\" title=\"21 Jump Street (film)\">21 Jump Street</a>,\n",
       " <a href=\"/wiki/22_Jump_Street\" title=\"22 Jump Street\">22 Jump Street</a>,\n",
       " <a href=\"/wiki/22_Jump_Street_(Original_Motion_Picture_Score)\" title=\"22 Jump Street (Original Motion Picture Score)\">Score</a>,\n",
       " <a dir=\"ltr\" href=\"https://en.wikipedia.org/w/index.php?title=List_of_guest_stars_on_21_Jump_Street&amp;oldid=820109238\">https://en.wikipedia.org/w/index.php?title=List_of_guest_stars_on_21_Jump_Street&amp;oldid=820109238</a>,\n",
       " <a href=\"/wiki/Help:Category\" title=\"Help:Category\">Categories</a>,\n",
       " <a href=\"/wiki/Category:21_Jump_Street\" title=\"Category:21 Jump Street\">21 Jump Street</a>,\n",
       " <a href=\"/wiki/Category:Lists_of_actors_by_role\" title=\"Category:Lists of actors by role\">Lists of actors by role</a>,\n",
       " <a href=\"/wiki/Category:Lists_of_American_television_series_characters\" title=\"Category:Lists of American television series characters\">Lists of American television series characters</a>,\n",
       " <a href=\"/wiki/Category:Lists_of_drama_television_characters\" title=\"Category:Lists of drama television characters\">Lists of drama television characters</a>,\n",
       " <a href=\"/wiki/Category:Lists_of_guest_appearances_in_television\" title=\"Category:Lists of guest appearances in television\">Lists of guest appearances in television</a>,\n",
       " <a accesskey=\"n\" href=\"/wiki/Special:MyTalk\" title=\"Discussion about edits from this IP address [n]\">Talk</a>,\n",
       " <a accesskey=\"y\" href=\"/wiki/Special:MyContributions\" title=\"A list of edits made from this IP address [y]\">Contributions</a>,\n",
       " <a href=\"/w/index.php?title=Special:CreateAccount&amp;returnto=List+of+guest+stars+on+21+Jump+Street\" title=\"You are encouraged to create an account and log in; however, it is not mandatory\">Create account</a>,\n",
       " <a accesskey=\"o\" href=\"/w/index.php?title=Special:UserLogin&amp;returnto=List+of+guest+stars+on+21+Jump+Street\" title=\"You're encouraged to log in; however, it's not mandatory. [o]\">Log in</a>,\n",
       " <a accesskey=\"c\" href=\"/wiki/List_of_guest_stars_on_21_Jump_Street\" title=\"View the content page [c]\">Article</a>,\n",
       " <a accesskey=\"t\" href=\"/wiki/Talk:List_of_guest_stars_on_21_Jump_Street\" rel=\"discussion\" title=\"Discussion about the content page [t]\">Talk</a>,\n",
       " <a href=\"/wiki/List_of_guest_stars_on_21_Jump_Street\">Read</a>,\n",
       " <a accesskey=\"e\" href=\"/w/index.php?title=List_of_guest_stars_on_21_Jump_Street&amp;action=edit\" title=\"Edit this page [e]\">Edit</a>,\n",
       " <a accesskey=\"h\" href=\"/w/index.php?title=List_of_guest_stars_on_21_Jump_Street&amp;action=history\" title=\"Past revisions of this page [h]\">View history</a>,\n",
       " <a class=\"mw-wiki-logo\" href=\"/wiki/Main_Page\" title=\"Visit the main page\"></a>,\n",
       " <a accesskey=\"z\" href=\"/wiki/Main_Page\" title=\"Visit the main page [z]\">Main page</a>,\n",
       " <a href=\"/wiki/Portal:Contents\" title=\"Guides to browsing Wikipedia\">Contents</a>,\n",
       " <a href=\"/wiki/Portal:Featured_content\" title=\"Featured content – the best of Wikipedia\">Featured content</a>,\n",
       " <a href=\"/wiki/Portal:Current_events\" title=\"Find background information on current events\">Current events</a>,\n",
       " <a accesskey=\"x\" href=\"/wiki/Special:Random\" title=\"Load a random article [x]\">Random article</a>,\n",
       " <a href=\"https://donate.wikimedia.org/wiki/Special:FundraiserRedirector?utm_source=donate&amp;utm_medium=sidebar&amp;utm_campaign=C13_en.wikipedia.org&amp;uselang=en\" title=\"Support us\">Donate to Wikipedia</a>,\n",
       " <a href=\"//shop.wikimedia.org\" title=\"Visit the Wikipedia store\">Wikipedia store</a>,\n",
       " <a href=\"/wiki/Help:Contents\" title=\"Guidance on how to use and edit Wikipedia\">Help</a>,\n",
       " <a href=\"/wiki/Wikipedia:About\" title=\"Find out about Wikipedia\">About Wikipedia</a>,\n",
       " <a href=\"/wiki/Wikipedia:Community_portal\" title=\"About the project, what you can do, where to find things\">Community portal</a>,\n",
       " <a accesskey=\"r\" href=\"/wiki/Special:RecentChanges\" title=\"A list of recent changes in the wiki [r]\">Recent changes</a>,\n",
       " <a href=\"//en.wikipedia.org/wiki/Wikipedia:Contact_us\" title=\"How to contact Wikipedia\">Contact page</a>,\n",
       " <a accesskey=\"j\" href=\"/wiki/Special:WhatLinksHere/List_of_guest_stars_on_21_Jump_Street\" title=\"List of all English Wikipedia pages containing links to this page [j]\">What links here</a>,\n",
       " <a accesskey=\"k\" href=\"/wiki/Special:RecentChangesLinked/List_of_guest_stars_on_21_Jump_Street\" rel=\"nofollow\" title=\"Recent changes in pages linked from this page [k]\">Related changes</a>,\n",
       " <a accesskey=\"u\" href=\"/wiki/Wikipedia:File_Upload_Wizard\" title=\"Upload files [u]\">Upload file</a>,\n",
       " <a accesskey=\"q\" href=\"/wiki/Special:SpecialPages\" title=\"A list of all special pages [q]\">Special pages</a>,\n",
       " <a href=\"/w/index.php?title=List_of_guest_stars_on_21_Jump_Street&amp;oldid=820109238\" title=\"Permanent link to this revision of the page\">Permanent link</a>,\n",
       " <a href=\"/w/index.php?title=List_of_guest_stars_on_21_Jump_Street&amp;action=info\" title=\"More information about this page\">Page information</a>,\n",
       " <a accesskey=\"g\" href=\"https://www.wikidata.org/wiki/Special:EntityPage/Q6621947\" title=\"Link to connected data repository item [g]\">Wikidata item</a>,\n",
       " <a href=\"/w/index.php?title=Special:CiteThisPage&amp;page=List_of_guest_stars_on_21_Jump_Street&amp;id=820109238\" title=\"Information on how to cite this page\">Cite this page</a>,\n",
       " <a href=\"/w/index.php?title=Special:Book&amp;bookcmd=book_creator&amp;referer=List+of+guest+stars+on+21+Jump+Street\">Create a book</a>,\n",
       " <a href=\"/w/index.php?title=Special:ElectronPdf&amp;page=List+of+guest+stars+on+21+Jump+Street&amp;action=show-download-screen\">Download as PDF</a>,\n",
       " <a accesskey=\"p\" href=\"/w/index.php?title=List_of_guest_stars_on_21_Jump_Street&amp;printable=yes\" title=\"Printable version of this page [p]\">Printable version</a>,\n",
       " <a class=\"wbc-editpage\" href=\"https://www.wikidata.org/wiki/Special:EntityPage/Q6621947#sitelinks-wikipedia\" title=\"Add interlanguage links\">Add links</a>,\n",
       " <a href=\"//en.wikipedia.org/wiki/Wikipedia:Text_of_Creative_Commons_Attribution-ShareAlike_3.0_Unported_License\" rel=\"license\">Creative Commons Attribution-ShareAlike License</a>,\n",
       " <a href=\"//creativecommons.org/licenses/by-sa/3.0/\" rel=\"license\" style=\"display:none;\"></a>,\n",
       " <a href=\"//wikimediafoundation.org/wiki/Terms_of_Use\">Terms of Use</a>,\n",
       " <a href=\"//wikimediafoundation.org/wiki/Privacy_policy\">Privacy Policy</a>,\n",
       " <a href=\"//www.wikimediafoundation.org/\">Wikimedia Foundation, Inc.</a>,\n",
       " <a class=\"extiw\" href=\"https://wikimediafoundation.org/wiki/Privacy_policy\" title=\"wmf:Privacy policy\">Privacy policy</a>,\n",
       " <a href=\"/wiki/Wikipedia:About\" title=\"Wikipedia:About\">About Wikipedia</a>,\n",
       " <a href=\"/wiki/Wikipedia:General_disclaimer\" title=\"Wikipedia:General disclaimer\">Disclaimers</a>,\n",
       " <a href=\"//en.wikipedia.org/wiki/Wikipedia:Contact_us\">Contact Wikipedia</a>,\n",
       " <a href=\"https://www.mediawiki.org/wiki/Special:MyLanguage/How_to_contribute\">Developers</a>,\n",
       " <a href=\"https://wikimediafoundation.org/wiki/Cookie_statement\">Cookie statement</a>,\n",
       " <a class=\"noprint stopMobileRedirectToggle\" href=\"//en.m.wikipedia.org/w/index.php?title=List_of_guest_stars_on_21_Jump_Street&amp;mobileaction=toggle_view_mobile\">Mobile view</a>,\n",
       " <a href=\"https://wikimediafoundation.org/\"><img alt=\"Wikimedia Foundation\" height=\"31\" src=\"/static/images/wikimedia-button.png\" srcset=\"/static/images/wikimedia-button-1.5x.png 1.5x, /static/images/wikimedia-button-2x.png 2x\" width=\"88\"/></a>,\n",
       " <a href=\"//www.mediawiki.org/\"><img alt=\"Powered by MediaWiki\" height=\"31\" src=\"/static/images/poweredby_mediawiki_88x31.png\" srcset=\"/static/images/poweredby_mediawiki_132x47.png 1.5x, /static/images/poweredby_mediawiki_176x62.png 2x\" width=\"88\"/></a>]"
      ]
     },
     "execution_count": 13,
     "metadata": {},
     "output_type": "execute_result"
    }
   ],
   "source": [
    "soup.find_all('a')"
   ]
  },
  {
   "cell_type": "code",
   "execution_count": 14,
   "metadata": {},
   "outputs": [
    {
     "name": "stdout",
     "output_type": "stream",
     "text": [
      "None\n",
      "#mw-head\n",
      "#p-search\n",
      "/wiki/Television_personality\n",
      "/wiki/Fox_Broadcasting_Company\n",
      "/wiki/21_Jump_Street\n",
      "#Season_1\n",
      "#Season_2\n",
      "#Season_3\n",
      "#Season_4\n",
      "#Season_5\n",
      "#See_also\n",
      "#References\n",
      "/w/index.php?title=List_of_guest_stars_on_21_Jump_Street&action=edit&section=1\n",
      "/wiki/Barney_Martin\n",
      "/wiki/Brandon_Douglas\n",
      "/w/index.php?title=Reginald_T._Dorsey&action=edit&redlink=1\n",
      "/wiki/Billy_Jayne\n",
      "/wiki/Steve_Antin\n",
      "/wiki/Traci_Lind\n",
      "/wiki/Leah_Ayres\n",
      "/wiki/Geoffrey_Blake_(actor)\n",
      "/wiki/Josh_Brolin\n",
      "/w/index.php?title=Jamie_Bozian&action=edit&redlink=1\n",
      "/wiki/John_D%27Aquino\n",
      "/w/index.php?title=Troy_Byer&action=edit&redlink=1\n",
      "/wiki/Lezlie_Deane\n",
      "/wiki/Blair_Underwood\n",
      "/wiki/Robert_Picardo\n",
      "/wiki/Scott_Schwartz\n",
      "/wiki/Liane_Curtis\n",
      "/wiki/Byron_Thames\n",
      "/wiki/Sherilyn_Fenn\n",
      "/wiki/Christopher_Heyerdahl\n",
      "/wiki/Kurtwood_Smith\n",
      "/wiki/Sarah_G._Buxton\n",
      "/wiki/Jason_Priestley\n",
      "/w/index.php?title=List_of_guest_stars_on_21_Jump_Street&action=edit&section=2\n",
      "/wiki/Kurtwood_Smith\n",
      "/wiki/Ray_Walston\n",
      "/wiki/Pauly_Shore\n",
      "/wiki/Shannon_Tweed\n",
      "/wiki/Lochlyn_Munro\n",
      "/wiki/Mindy_Cohn\n",
      "/wiki/Kent_McCord\n",
      "/wiki/Don_S._Davis\n",
      "/wiki/Tom_Wright_(actor)\n",
      "/wiki/Jean_Sagal\n",
      "/wiki/Liz_Sagal\n",
      "/wiki/Deborah_Lacey\n",
      "/wiki/Bradford_English\n",
      "/wiki/Christina_Applegate\n",
      "/wiki/Peter_Berg\n",
      "/wiki/Gabriel_Jarret\n",
      "/wiki/Bruce_French_(actor)\n",
      "/wiki/Dann_Florek\n",
      "/wiki/Gregory_Itzin\n",
      "/wiki/Brad_Pitt\n",
      "/wiki/Don_S._Davis\n",
      "/wiki/Sam_Anderson\n",
      "/w/index.php?title=List_of_guest_stars_on_21_Jump_Street&action=edit&section=3\n",
      "/wiki/Leo_Rossi\n",
      "/wiki/Peri_Gilpin\n",
      "/wiki/Kelly_Hu\n",
      "/wiki/Russell_Wong\n",
      "/wiki/Christopher_Titus\n",
      "/wiki/Dom_DeLuise\n",
      "/w/index.php?title=Kehli_O%27Byrne&action=edit&redlink=1\n",
      "/wiki/Larenz_Tate\n",
      "/wiki/Maia_Brewton\n",
      "/wiki/Michael_DeLuise\n",
      "/wiki/Mario_Van_Peebles\n",
      "#endnote_reference_name_A\n",
      "/wiki/Bridget_Fonda\n",
      "/wiki/Conor_O%27Farrell\n",
      "/wiki/Andrew_Lauer\n",
      "/w/index.php?title=Claude_Brooks&action=edit&redlink=1\n",
      "/wiki/Margot_Rose\n",
      "/w/index.php?title=List_of_guest_stars_on_21_Jump_Street&action=edit&section=4\n",
      "/wiki/Don_S._Davis\n",
      "/wiki/Robert_Romanus\n",
      "/wiki/Rob_Estes\n",
      "/wiki/Stu_Nahan\n",
      "/wiki/Mario_Van_Peebles\n",
      "#endnote_reference_name_A\n",
      "/wiki/Thomas_Haden_Church\n",
      "/wiki/Billy_Warlock\n",
      "/wiki/Tony_Plana\n",
      "/wiki/Julie_Warner\n",
      "/wiki/Barbara_Tarbuck\n",
      "/wiki/Kamala_Lopez\n",
      "/wiki/Pamela_Adlon\n",
      "/wiki/Christine_Elise\n",
      "/wiki/Robyn_Lively\n",
      "/wiki/Vince_Vaughn\n",
      "/wiki/Mickey_Jones\n",
      "/wiki/Ray_Baker_(actor)\n",
      "/wiki/Keith_Coogan\n",
      "/wiki/Shannen_Doherty\n",
      "/wiki/Wallace_Langham\n",
      "/wiki/Rosie_Perez\n",
      "/wiki/Don_S._Davis\n",
      "/wiki/Chick_Hearn\n",
      "/wiki/Kareem_Abdul-Jabbar\n",
      "/wiki/John_Waters_(filmmaker)\n",
      "/wiki/John_Pyper-Ferguson\n",
      "/wiki/Diedrich_Bader\n",
      "/wiki/Kelly_Perine\n",
      "/wiki/Kristin_Dattilo\n",
      "/w/index.php?title=List_of_guest_stars_on_21_Jump_Street&action=edit&section=5\n",
      "/wiki/Lisa_Dean_Ryan\n",
      "/wiki/Scott_Grimes\n",
      "/wiki/Brigitta_Dau\n",
      "/wiki/Tony_Dakota\n",
      "/wiki/Perrey_Reeves\n",
      "/w/index.php?title=Johannah_Newmarch&action=edit&redlink=1\n",
      "/wiki/Richard_Leacock\n",
      "/w/index.php?title=Pat_Bermel&action=edit&redlink=1\n",
      "/wiki/Deanna_Milligan\n",
      "/wiki/Peter_Outerbridge\n",
      "/w/index.php?title=Don_MacKay&action=edit&redlink=1\n",
      "/wiki/Terence_Kelly_(actor)\n",
      "/wiki/Merrilyn_Gann\n",
      "/wiki/Ocean_Hellman\n",
      "/wiki/Lochlyn_Munro\n",
      "/wiki/Leslie_Carlson\n",
      "/wiki/David_DeLuise\n",
      "/wiki/Kamala_Lopez\n",
      "/wiki/Don_S._Davis\n",
      "/wiki/Jada_Pinkett_Smith\n",
      "#ref_reference_name_A\n",
      "/w/index.php?title=List_of_guest_stars_on_21_Jump_Street&action=edit&section=6\n",
      "/wiki/Jump_Street_(franchise)\n",
      "/w/index.php?title=List_of_guest_stars_on_21_Jump_Street&action=edit&section=7\n",
      "http://www.imdb.com/title/tt0092312/\n",
      "/wiki/IMDb\n",
      "/wiki/Template:21_Jump_Street\n",
      "/wiki/Template_talk:21_Jump_Street\n",
      "//en.wikipedia.org/w/index.php?title=Template:21_Jump_Street&action=edit\n",
      "/wiki/Jump_Street_(franchise)\n",
      "/wiki/21_Jump_Street\n",
      "/wiki/List_of_21_Jump_Street_episodes\n",
      "None\n",
      "/wiki/Booker_(TV_series)\n",
      "/wiki/21_Jump_Street_(film)\n",
      "/wiki/22_Jump_Street\n",
      "/wiki/22_Jump_Street_(Original_Motion_Picture_Score)\n",
      "https://en.wikipedia.org/w/index.php?title=List_of_guest_stars_on_21_Jump_Street&oldid=820109238\n",
      "/wiki/Help:Category\n",
      "/wiki/Category:21_Jump_Street\n",
      "/wiki/Category:Lists_of_actors_by_role\n",
      "/wiki/Category:Lists_of_American_television_series_characters\n",
      "/wiki/Category:Lists_of_drama_television_characters\n",
      "/wiki/Category:Lists_of_guest_appearances_in_television\n",
      "/wiki/Special:MyTalk\n",
      "/wiki/Special:MyContributions\n",
      "/w/index.php?title=Special:CreateAccount&returnto=List+of+guest+stars+on+21+Jump+Street\n",
      "/w/index.php?title=Special:UserLogin&returnto=List+of+guest+stars+on+21+Jump+Street\n",
      "/wiki/List_of_guest_stars_on_21_Jump_Street\n",
      "/wiki/Talk:List_of_guest_stars_on_21_Jump_Street\n",
      "/wiki/List_of_guest_stars_on_21_Jump_Street\n",
      "/w/index.php?title=List_of_guest_stars_on_21_Jump_Street&action=edit\n",
      "/w/index.php?title=List_of_guest_stars_on_21_Jump_Street&action=history\n",
      "/wiki/Main_Page\n",
      "/wiki/Main_Page\n",
      "/wiki/Portal:Contents\n",
      "/wiki/Portal:Featured_content\n",
      "/wiki/Portal:Current_events\n",
      "/wiki/Special:Random\n",
      "https://donate.wikimedia.org/wiki/Special:FundraiserRedirector?utm_source=donate&utm_medium=sidebar&utm_campaign=C13_en.wikipedia.org&uselang=en\n",
      "//shop.wikimedia.org\n",
      "/wiki/Help:Contents\n",
      "/wiki/Wikipedia:About\n",
      "/wiki/Wikipedia:Community_portal\n",
      "/wiki/Special:RecentChanges\n",
      "//en.wikipedia.org/wiki/Wikipedia:Contact_us\n",
      "/wiki/Special:WhatLinksHere/List_of_guest_stars_on_21_Jump_Street\n",
      "/wiki/Special:RecentChangesLinked/List_of_guest_stars_on_21_Jump_Street\n",
      "/wiki/Wikipedia:File_Upload_Wizard\n",
      "/wiki/Special:SpecialPages\n",
      "/w/index.php?title=List_of_guest_stars_on_21_Jump_Street&oldid=820109238\n",
      "/w/index.php?title=List_of_guest_stars_on_21_Jump_Street&action=info\n",
      "https://www.wikidata.org/wiki/Special:EntityPage/Q6621947\n",
      "/w/index.php?title=Special:CiteThisPage&page=List_of_guest_stars_on_21_Jump_Street&id=820109238\n",
      "/w/index.php?title=Special:Book&bookcmd=book_creator&referer=List+of+guest+stars+on+21+Jump+Street\n",
      "/w/index.php?title=Special:ElectronPdf&page=List+of+guest+stars+on+21+Jump+Street&action=show-download-screen\n",
      "/w/index.php?title=List_of_guest_stars_on_21_Jump_Street&printable=yes\n",
      "https://www.wikidata.org/wiki/Special:EntityPage/Q6621947#sitelinks-wikipedia\n",
      "//en.wikipedia.org/wiki/Wikipedia:Text_of_Creative_Commons_Attribution-ShareAlike_3.0_Unported_License\n",
      "//creativecommons.org/licenses/by-sa/3.0/\n",
      "//wikimediafoundation.org/wiki/Terms_of_Use\n",
      "//wikimediafoundation.org/wiki/Privacy_policy\n",
      "//www.wikimediafoundation.org/\n",
      "https://wikimediafoundation.org/wiki/Privacy_policy\n",
      "/wiki/Wikipedia:About\n",
      "/wiki/Wikipedia:General_disclaimer\n",
      "//en.wikipedia.org/wiki/Wikipedia:Contact_us\n",
      "https://www.mediawiki.org/wiki/Special:MyLanguage/How_to_contribute\n",
      "https://wikimediafoundation.org/wiki/Cookie_statement\n",
      "//en.m.wikipedia.org/w/index.php?title=List_of_guest_stars_on_21_Jump_Street&mobileaction=toggle_view_mobile\n",
      "https://wikimediafoundation.org/\n",
      "//www.mediawiki.org/\n"
     ]
    }
   ],
   "source": [
    "all_links = soup.find_all(\"a\")\n",
    "for link in all_links:\n",
    "    print(link.get(\"href\"))"
   ]
  },
  {
   "cell_type": "code",
   "execution_count": 15,
   "metadata": {
    "collapsed": true
   },
   "outputs": [],
   "source": [
    "all_tables = soup.find_all('table')"
   ]
  },
  {
   "cell_type": "code",
   "execution_count": 17,
   "metadata": {},
   "outputs": [
    {
     "data": {
      "text/plain": [
       "'\\n\\nActor\\nCharacter\\nSeason #\\nEpisode #\\nEpisode Title\\n\\n\\nBarney Martin\\nCharlie\\n1\\n1\\n\"Pilot\"\\n\\n\\nBrandon Douglas\\nKenny Weckerle\\n1\\n1 & 2\\n\"Pilot\"\\n\\n\\nReginald T. Dorsey\\nTyrell \"Waxer\" Thompson\\n1\\n1 & 2\\n\"Pilot\"\\n\\n\\nBilly Jayne\\nMark Dorian\\n1\\n2\\n\"America, What a Town\"\\n\\n\\nSteve Antin\\nStevie Delano\\n1\\n2\\n\"America, What a Town\"\\n\\n\\nTraci Lind\\nNadia\\n1\\n2\\n\"America, What a Town\"\\n\\n\\nLeah Ayres\\nSusan Chadwick\\n1\\n3\\n\"Don\\'t Pet the Teacher\"\\n\\n\\nGeoffrey Blake\\nJeffrey Stone\\n1\\n3\\n\"Don\\'t Pet the Teacher\"\\n\\n\\nJosh Brolin\\nTaylor Rolator\\n1\\n4\\n\"My Future\\'s So Bright, I Gotta Wear Shades\"\\n\\n\\nJamie Bozian\\nKurt Niles\\n1\\n4\\n\"My Future\\'s So Bright, I Gotta Wear Shades\"\\n\\n\\nJohn D\\'Aquino\\nVinny Morgan\\n1\\n4\\n\"My Future\\'s So Bright, I Gotta Wear Shades\"\\n\\n\\nTroy Byer\\nPatty Blatcher\\n1\\n5\\n\"The Worst Night of Your Life\"\\n\\n\\nLezlie Deane\\nJane Kinney\\n1\\n5\\n\"The Worst Night of Your Life\"\\n\\n\\nBlair Underwood\\nReginald Brooks\\n1\\n6\\n\"Gotta Finish the Riff\"\\n\\n\\nRobert Picardo\\nRalph Buckley\\n1\\n6\\n\"Gotta Finish the Riff\"\\n\\n\\nScott Schwartz\\nJordan Simms\\n1\\n7\\n\"Bad Influence\"\\n\\n\\nLiane Curtis\\nLauren Carlson\\n1\\n7\\n\"Bad Influence\"\\n\\n\\nByron Thames\\nDylan Taylor\\n1\\n7\\n\"Bad Influence\"\\n\\n\\nSherilyn Fenn\\nDiane Nelson\\n1\\n8\\n\"Blindsided\"\\n\\n\\nChristopher Heyerdahl\\nJake\\n1\\n9\\n\"Next Generation\"\\n\\n\\nKurtwood Smith\\nSpencer Phillips\\n1\\n10\\n\"Low and Away\"\\n\\n\\nDavid Raynr\\nKipling \"Kip\" Fuller\\n1\\n11\\n\"16 Blown to 35\"\\n\\n\\nSarah G. Buxton\\nKatrina\\n1\\n11\\n\"16 Blown to 35\"\\n\\n\\nJason Priestley\\nTober\\n1\\n12\\n\"Mean Streets and Pastel Houses\"\\n\\n'"
      ]
     },
     "execution_count": 17,
     "metadata": {},
     "output_type": "execute_result"
    }
   ],
   "source": [
    "all_tables[0].text"
   ]
  },
  {
   "cell_type": "code",
   "execution_count": 18,
   "metadata": {
    "collapsed": true
   },
   "outputs": [],
   "source": [
    "right_tables = soup.find_all('table', class_='wikitable')"
   ]
  },
  {
   "cell_type": "code",
   "execution_count": 19,
   "metadata": {},
   "outputs": [
    {
     "data": {
      "text/plain": [
       "5"
      ]
     },
     "execution_count": 19,
     "metadata": {},
     "output_type": "execute_result"
    }
   ],
   "source": [
    "len(right_tables)"
   ]
  },
  {
   "cell_type": "code",
   "execution_count": 137,
   "metadata": {},
   "outputs": [
    {
     "data": {
      "text/plain": [
       "<table class=\"wikitable\">\n",
       "<tr>\n",
       "<th>Actor</th>\n",
       "<th>Character</th>\n",
       "<th>Season #</th>\n",
       "<th>Episode #</th>\n",
       "<th>Episode Title</th>\n",
       "</tr>\n",
       "<tr>\n",
       "<td><a href=\"/wiki/Barney_Martin\" title=\"Barney Martin\">Barney Martin</a></td>\n",
       "<td>Charlie</td>\n",
       "<td>1</td>\n",
       "<td>1</td>\n",
       "<td>\"Pilot\"</td>\n",
       "</tr>\n",
       "<tr>\n",
       "<td><a href=\"/wiki/Brandon_Douglas\" title=\"Brandon Douglas\">Brandon Douglas</a></td>\n",
       "<td>Kenny Weckerle</td>\n",
       "<td>1</td>\n",
       "<td>1 &amp; 2</td>\n",
       "<td>\"Pilot\"</td>\n",
       "</tr>\n",
       "<tr>\n",
       "<td><a class=\"new\" href=\"/w/index.php?title=Reginald_T._Dorsey&amp;action=edit&amp;redlink=1\" title=\"Reginald T. Dorsey (page does not exist)\">Reginald T. Dorsey</a></td>\n",
       "<td>Tyrell \"Waxer\" Thompson</td>\n",
       "<td>1</td>\n",
       "<td>1 &amp; 2</td>\n",
       "<td>\"Pilot\"</td>\n",
       "</tr>\n",
       "<tr>\n",
       "<td><a href=\"/wiki/Billy_Jayne\" title=\"Billy Jayne\">Billy Jayne</a></td>\n",
       "<td>Mark Dorian</td>\n",
       "<td>1</td>\n",
       "<td>2</td>\n",
       "<td>\"America, What a Town\"</td>\n",
       "</tr>\n",
       "<tr>\n",
       "<td><a href=\"/wiki/Steve_Antin\" title=\"Steve Antin\">Steve Antin</a></td>\n",
       "<td>Stevie Delano</td>\n",
       "<td>1</td>\n",
       "<td>2</td>\n",
       "<td>\"America, What a Town\"</td>\n",
       "</tr>\n",
       "<tr>\n",
       "<td><a href=\"/wiki/Traci_Lind\" title=\"Traci Lind\">Traci Lind</a></td>\n",
       "<td>Nadia</td>\n",
       "<td>1</td>\n",
       "<td>2</td>\n",
       "<td>\"America, What a Town\"</td>\n",
       "</tr>\n",
       "<tr>\n",
       "<td><a href=\"/wiki/Leah_Ayres\" title=\"Leah Ayres\">Leah Ayres</a></td>\n",
       "<td>Susan Chadwick</td>\n",
       "<td>1</td>\n",
       "<td>3</td>\n",
       "<td>\"Don't Pet the Teacher\"</td>\n",
       "</tr>\n",
       "<tr>\n",
       "<td><a href=\"/wiki/Geoffrey_Blake_(actor)\" title=\"Geoffrey Blake (actor)\">Geoffrey Blake</a></td>\n",
       "<td>Jeffrey Stone</td>\n",
       "<td>1</td>\n",
       "<td>3</td>\n",
       "<td>\"Don't Pet the Teacher\"</td>\n",
       "</tr>\n",
       "<tr>\n",
       "<td><a href=\"/wiki/Josh_Brolin\" title=\"Josh Brolin\">Josh Brolin</a></td>\n",
       "<td>Taylor Rolator</td>\n",
       "<td>1</td>\n",
       "<td>4</td>\n",
       "<td>\"My Future's So Bright, I Gotta Wear Shades\"</td>\n",
       "</tr>\n",
       "<tr>\n",
       "<td><a class=\"new\" href=\"/w/index.php?title=Jamie_Bozian&amp;action=edit&amp;redlink=1\" title=\"Jamie Bozian (page does not exist)\">Jamie Bozian</a></td>\n",
       "<td>Kurt Niles</td>\n",
       "<td>1</td>\n",
       "<td>4</td>\n",
       "<td>\"My Future's So Bright, I Gotta Wear Shades\"</td>\n",
       "</tr>\n",
       "<tr>\n",
       "<td><a href=\"/wiki/John_D%27Aquino\" title=\"John D'Aquino\">John D'Aquino</a></td>\n",
       "<td>Vinny Morgan</td>\n",
       "<td>1</td>\n",
       "<td>4</td>\n",
       "<td>\"My Future's So Bright, I Gotta Wear Shades\"</td>\n",
       "</tr>\n",
       "<tr>\n",
       "<td><a class=\"new\" href=\"/w/index.php?title=Troy_Byer&amp;action=edit&amp;redlink=1\" title=\"Troy Byer (page does not exist)\">Troy Byer</a></td>\n",
       "<td>Patty Blatcher</td>\n",
       "<td>1</td>\n",
       "<td>5</td>\n",
       "<td>\"The Worst Night of Your Life\"</td>\n",
       "</tr>\n",
       "<tr>\n",
       "<td><a href=\"/wiki/Lezlie_Deane\" title=\"Lezlie Deane\">Lezlie Deane</a></td>\n",
       "<td>Jane Kinney</td>\n",
       "<td>1</td>\n",
       "<td>5</td>\n",
       "<td>\"The Worst Night of Your Life\"</td>\n",
       "</tr>\n",
       "<tr>\n",
       "<td><a href=\"/wiki/Blair_Underwood\" title=\"Blair Underwood\">Blair Underwood</a></td>\n",
       "<td>Reginald Brooks</td>\n",
       "<td>1</td>\n",
       "<td>6</td>\n",
       "<td>\"Gotta Finish the Riff\"</td>\n",
       "</tr>\n",
       "<tr>\n",
       "<td><a href=\"/wiki/Robert_Picardo\" title=\"Robert Picardo\">Robert Picardo</a></td>\n",
       "<td>Ralph Buckley</td>\n",
       "<td>1</td>\n",
       "<td>6</td>\n",
       "<td>\"Gotta Finish the Riff\"</td>\n",
       "</tr>\n",
       "<tr>\n",
       "<td><a href=\"/wiki/Scott_Schwartz\" title=\"Scott Schwartz\">Scott Schwartz</a></td>\n",
       "<td>Jordan Simms</td>\n",
       "<td>1</td>\n",
       "<td>7</td>\n",
       "<td>\"Bad Influence\"</td>\n",
       "</tr>\n",
       "<tr>\n",
       "<td><a href=\"/wiki/Liane_Curtis\" title=\"Liane Curtis\">Liane Curtis</a></td>\n",
       "<td>Lauren Carlson</td>\n",
       "<td>1</td>\n",
       "<td>7</td>\n",
       "<td>\"Bad Influence\"</td>\n",
       "</tr>\n",
       "<tr>\n",
       "<td><a href=\"/wiki/Byron_Thames\" title=\"Byron Thames\">Byron Thames</a></td>\n",
       "<td>Dylan Taylor</td>\n",
       "<td>1</td>\n",
       "<td>7</td>\n",
       "<td>\"Bad Influence\"</td>\n",
       "</tr>\n",
       "<tr>\n",
       "<td><a href=\"/wiki/Sherilyn_Fenn\" title=\"Sherilyn Fenn\">Sherilyn Fenn</a></td>\n",
       "<td>Diane Nelson</td>\n",
       "<td>1</td>\n",
       "<td>8</td>\n",
       "<td>\"Blindsided\"</td>\n",
       "</tr>\n",
       "<tr>\n",
       "<td><a href=\"/wiki/Christopher_Heyerdahl\" title=\"Christopher Heyerdahl\">Christopher Heyerdahl</a></td>\n",
       "<td>Jake</td>\n",
       "<td>1</td>\n",
       "<td>9</td>\n",
       "<td>\"Next Generation\"</td>\n",
       "</tr>\n",
       "<tr>\n",
       "<td><a href=\"/wiki/Kurtwood_Smith\" title=\"Kurtwood Smith\">Kurtwood Smith</a></td>\n",
       "<td>Spencer Phillips</td>\n",
       "<td>1</td>\n",
       "<td>10</td>\n",
       "<td>\"Low and Away\"</td>\n",
       "</tr>\n",
       "<tr>\n",
       "<td>David Raynr</td>\n",
       "<td>Kipling \"Kip\" Fuller</td>\n",
       "<td>1</td>\n",
       "<td>11</td>\n",
       "<td>\"16 Blown to 35\"</td>\n",
       "</tr>\n",
       "<tr>\n",
       "<td><a href=\"/wiki/Sarah_G._Buxton\" title=\"Sarah G. Buxton\">Sarah G. Buxton</a></td>\n",
       "<td>Katrina</td>\n",
       "<td>1</td>\n",
       "<td>11</td>\n",
       "<td>\"16 Blown to 35\"</td>\n",
       "</tr>\n",
       "<tr>\n",
       "<td><a href=\"/wiki/Jason_Priestley\" title=\"Jason Priestley\">Jason Priestley</a></td>\n",
       "<td>Tober</td>\n",
       "<td>1</td>\n",
       "<td>12</td>\n",
       "<td>\"Mean Streets and Pastel Houses\"</td>\n",
       "</tr>\n",
       "</table>"
      ]
     },
     "execution_count": 137,
     "metadata": {},
     "output_type": "execute_result"
    }
   ],
   "source": [
    "right_tables[0]"
   ]
  },
  {
   "cell_type": "code",
   "execution_count": 41,
   "metadata": {},
   "outputs": [
    {
     "data": {
      "text/plain": [
       "'\\nActor\\nCharacter\\nSeason #\\nEpisode #\\nEpisode Title\\n'"
      ]
     },
     "execution_count": 41,
     "metadata": {},
     "output_type": "execute_result"
    }
   ],
   "source": [
    "right_tables[0].find_all('tr')[0].text"
   ]
  },
  {
   "cell_type": "code",
   "execution_count": 46,
   "metadata": {},
   "outputs": [
    {
     "data": {
      "text/plain": [
       "'\\nReginald T. Dorsey\\nTyrell \"Waxer\" Thompson\\n1\\n1 & 2\\n\"Pilot\"\\n'"
      ]
     },
     "execution_count": 46,
     "metadata": {},
     "output_type": "execute_result"
    }
   ],
   "source": [
    "right_tables[0].find_all('tr')[3].text"
   ]
  },
  {
   "cell_type": "code",
   "execution_count": 66,
   "metadata": {
    "collapsed": true
   },
   "outputs": [],
   "source": [
    "for row in right_tables[0].find_all('tr'):\n",
    "    cells = row.find_all('td')"
   ]
  },
  {
   "cell_type": "code",
   "execution_count": 67,
   "metadata": {},
   "outputs": [
    {
     "data": {
      "text/plain": [
       "[<td><a href=\"/wiki/Jason_Priestley\" title=\"Jason Priestley\">Jason Priestley</a></td>,\n",
       " <td>Tober</td>,\n",
       " <td>1</td>,\n",
       " <td>12</td>,\n",
       " <td>\"Mean Streets and Pastel Houses\"</td>]"
      ]
     },
     "execution_count": 67,
     "metadata": {},
     "output_type": "execute_result"
    }
   ],
   "source": [
    "cells"
   ]
  },
  {
   "cell_type": "code",
   "execution_count": 76,
   "metadata": {
    "collapsed": true
   },
   "outputs": [],
   "source": [
    "for i in range(5):\n",
    "    for row in right_tables[i].find_all('tr'):\n",
    "        cells = row.find_all('td')"
   ]
  },
  {
   "cell_type": "code",
   "execution_count": 77,
   "metadata": {},
   "outputs": [
    {
     "data": {
      "text/plain": [
       "'Jada Pinkett Smith'"
      ]
     },
     "execution_count": 77,
     "metadata": {},
     "output_type": "execute_result"
    }
   ],
   "source": [
    "cells[0].text"
   ]
  },
  {
   "cell_type": "code",
   "execution_count": 79,
   "metadata": {},
   "outputs": [
    {
     "data": {
      "text/plain": [
       "'Nicole'"
      ]
     },
     "execution_count": 79,
     "metadata": {},
     "output_type": "execute_result"
    }
   ],
   "source": [
    "cells[1].text"
   ]
  },
  {
   "cell_type": "code",
   "execution_count": 63,
   "metadata": {},
   "outputs": [
    {
     "data": {
      "text/plain": [
       "['\\nBrigitta Dau\\nClaire\\n5\\n3\\n\"Buddy System\"\\n']"
      ]
     },
     "execution_count": 63,
     "metadata": {},
     "output_type": "execute_result"
    }
   ],
   "source": [
    "act"
   ]
  },
  {
   "cell_type": "code",
   "execution_count": 89,
   "metadata": {},
   "outputs": [
    {
     "data": {
      "text/plain": [
       "'Barney Martin'"
      ]
     },
     "execution_count": 89,
     "metadata": {},
     "output_type": "execute_result"
    }
   ],
   "source": [
    "right_tables[0].find_all('td')[0].text"
   ]
  },
  {
   "cell_type": "code",
   "execution_count": 90,
   "metadata": {},
   "outputs": [
    {
     "data": {
      "text/plain": [
       "'Charlie'"
      ]
     },
     "execution_count": 90,
     "metadata": {},
     "output_type": "execute_result"
    }
   ],
   "source": [
    "right_tables[0].find_all('td')[1].text"
   ]
  },
  {
   "cell_type": "code",
   "execution_count": 91,
   "metadata": {},
   "outputs": [
    {
     "data": {
      "text/plain": [
       "'1'"
      ]
     },
     "execution_count": 91,
     "metadata": {},
     "output_type": "execute_result"
    }
   ],
   "source": [
    "right_tables[0].find_all('td')[2].text"
   ]
  },
  {
   "cell_type": "code",
   "execution_count": 92,
   "metadata": {},
   "outputs": [
    {
     "data": {
      "text/plain": [
       "'1'"
      ]
     },
     "execution_count": 92,
     "metadata": {},
     "output_type": "execute_result"
    }
   ],
   "source": [
    "right_tables[0].find_all('td')[3].text"
   ]
  },
  {
   "cell_type": "code",
   "execution_count": 93,
   "metadata": {},
   "outputs": [
    {
     "data": {
      "text/plain": [
       "'\"Pilot\"'"
      ]
     },
     "execution_count": 93,
     "metadata": {},
     "output_type": "execute_result"
    }
   ],
   "source": [
    "right_tables[0].find_all('td')[4].text"
   ]
  },
  {
   "cell_type": "code",
   "execution_count": 96,
   "metadata": {},
   "outputs": [
    {
     "data": {
      "text/plain": [
       "'Brandon Douglas'"
      ]
     },
     "execution_count": 96,
     "metadata": {},
     "output_type": "execute_result"
    }
   ],
   "source": [
    "right_tables[0].find_all('td')[5].text"
   ]
  },
  {
   "cell_type": "code",
   "execution_count": 97,
   "metadata": {},
   "outputs": [
    {
     "data": {
      "text/plain": [
       "120"
      ]
     },
     "execution_count": 97,
     "metadata": {},
     "output_type": "execute_result"
    }
   ],
   "source": [
    "len(right_tables[0].find_all('td'))"
   ]
  },
  {
   "cell_type": "code",
   "execution_count": 118,
   "metadata": {
    "collapsed": true
   },
   "outputs": [],
   "source": [
    "a = []\n",
    "\n",
    "for j in range(120):\n",
    "    items = right_tables[0].find_all('td')[j].text\n",
    "    a.append(items)"
   ]
  },
  {
   "cell_type": "code",
   "execution_count": 120,
   "metadata": {},
   "outputs": [
    {
     "data": {
      "text/plain": [
       "['Barney Martin',\n",
       " 'Charlie',\n",
       " '1',\n",
       " '1',\n",
       " '\"Pilot\"',\n",
       " 'Brandon Douglas',\n",
       " 'Kenny Weckerle',\n",
       " '1',\n",
       " '1 & 2',\n",
       " '\"Pilot\"',\n",
       " 'Reginald T. Dorsey',\n",
       " 'Tyrell \"Waxer\" Thompson',\n",
       " '1',\n",
       " '1 & 2',\n",
       " '\"Pilot\"',\n",
       " 'Billy Jayne',\n",
       " 'Mark Dorian',\n",
       " '1',\n",
       " '2',\n",
       " '\"America, What a Town\"']"
      ]
     },
     "execution_count": 120,
     "metadata": {},
     "output_type": "execute_result"
    }
   ],
   "source": [
    "a[:20]"
   ]
  },
  {
   "cell_type": "code",
   "execution_count": 122,
   "metadata": {},
   "outputs": [
    {
     "data": {
      "text/plain": [
       "['Barney Martin',\n",
       " 'Brandon Douglas',\n",
       " 'Reginald T. Dorsey',\n",
       " 'Billy Jayne',\n",
       " 'Steve Antin',\n",
       " 'Traci Lind',\n",
       " 'Leah Ayres',\n",
       " 'Geoffrey Blake',\n",
       " 'Josh Brolin',\n",
       " 'Jamie Bozian',\n",
       " \"John D'Aquino\",\n",
       " 'Troy Byer',\n",
       " 'Lezlie Deane',\n",
       " 'Blair Underwood',\n",
       " 'Robert Picardo',\n",
       " 'Scott Schwartz',\n",
       " 'Liane Curtis',\n",
       " 'Byron Thames',\n",
       " 'Sherilyn Fenn',\n",
       " 'Christopher Heyerdahl',\n",
       " 'Kurtwood Smith',\n",
       " 'David Raynr',\n",
       " 'Sarah G. Buxton',\n",
       " 'Jason Priestley']"
      ]
     },
     "execution_count": 122,
     "metadata": {},
     "output_type": "execute_result"
    }
   ],
   "source": [
    "a[::5]"
   ]
  },
  {
   "cell_type": "code",
   "execution_count": 123,
   "metadata": {
    "collapsed": true
   },
   "outputs": [],
   "source": [
    "actors = a[::5]\n",
    "character = a[1::5]\n",
    "season = a[2::5]\n",
    "episode = a[3::5]\n",
    "title = a[4::5]"
   ]
  },
  {
   "cell_type": "code",
   "execution_count": 124,
   "metadata": {},
   "outputs": [
    {
     "data": {
      "text/plain": [
       "['\"Pilot\"', '\"Pilot\"', '\"Pilot\"', '\"America, What a Town\"']"
      ]
     },
     "execution_count": 124,
     "metadata": {},
     "output_type": "execute_result"
    }
   ],
   "source": [
    "title[:4]"
   ]
  },
  {
   "cell_type": "code",
   "execution_count": 134,
   "metadata": {
    "collapsed": true
   },
   "outputs": [],
   "source": [
    "import pandas as pd"
   ]
  },
  {
   "cell_type": "code",
   "execution_count": 129,
   "metadata": {
    "collapsed": true
   },
   "outputs": [],
   "source": [
    "df = pd.DataFrame()"
   ]
  },
  {
   "cell_type": "code",
   "execution_count": 132,
   "metadata": {
    "collapsed": true
   },
   "outputs": [],
   "source": [
    "df['Actors'] = actors\n",
    "df['Character'] = character\n",
    "df['Season'] = season\n",
    "df['Episode'] = episode\n",
    "df['Title'] = title"
   ]
  },
  {
   "cell_type": "code",
   "execution_count": 133,
   "metadata": {},
   "outputs": [
    {
     "data": {
      "text/html": [
       "<div>\n",
       "<style>\n",
       "    .dataframe thead tr:only-child th {\n",
       "        text-align: right;\n",
       "    }\n",
       "\n",
       "    .dataframe thead th {\n",
       "        text-align: left;\n",
       "    }\n",
       "\n",
       "    .dataframe tbody tr th {\n",
       "        vertical-align: top;\n",
       "    }\n",
       "</style>\n",
       "<table border=\"1\" class=\"dataframe\">\n",
       "  <thead>\n",
       "    <tr style=\"text-align: right;\">\n",
       "      <th></th>\n",
       "      <th>Actors</th>\n",
       "      <th>Character</th>\n",
       "      <th>Season</th>\n",
       "      <th>Episode</th>\n",
       "      <th>Title</th>\n",
       "    </tr>\n",
       "  </thead>\n",
       "  <tbody>\n",
       "    <tr>\n",
       "      <th>0</th>\n",
       "      <td>Barney Martin</td>\n",
       "      <td>Charlie</td>\n",
       "      <td>1</td>\n",
       "      <td>1</td>\n",
       "      <td>\"Pilot\"</td>\n",
       "    </tr>\n",
       "    <tr>\n",
       "      <th>1</th>\n",
       "      <td>Brandon Douglas</td>\n",
       "      <td>Kenny Weckerle</td>\n",
       "      <td>1</td>\n",
       "      <td>1 &amp; 2</td>\n",
       "      <td>\"Pilot\"</td>\n",
       "    </tr>\n",
       "    <tr>\n",
       "      <th>2</th>\n",
       "      <td>Reginald T. Dorsey</td>\n",
       "      <td>Tyrell \"Waxer\" Thompson</td>\n",
       "      <td>1</td>\n",
       "      <td>1 &amp; 2</td>\n",
       "      <td>\"Pilot\"</td>\n",
       "    </tr>\n",
       "    <tr>\n",
       "      <th>3</th>\n",
       "      <td>Billy Jayne</td>\n",
       "      <td>Mark Dorian</td>\n",
       "      <td>1</td>\n",
       "      <td>2</td>\n",
       "      <td>\"America, What a Town\"</td>\n",
       "    </tr>\n",
       "    <tr>\n",
       "      <th>4</th>\n",
       "      <td>Steve Antin</td>\n",
       "      <td>Stevie Delano</td>\n",
       "      <td>1</td>\n",
       "      <td>2</td>\n",
       "      <td>\"America, What a Town\"</td>\n",
       "    </tr>\n",
       "  </tbody>\n",
       "</table>\n",
       "</div>"
      ],
      "text/plain": [
       "               Actors                Character Season Episode  \\\n",
       "0       Barney Martin                  Charlie      1       1   \n",
       "1     Brandon Douglas           Kenny Weckerle      1   1 & 2   \n",
       "2  Reginald T. Dorsey  Tyrell \"Waxer\" Thompson      1   1 & 2   \n",
       "3         Billy Jayne              Mark Dorian      1       2   \n",
       "4         Steve Antin            Stevie Delano      1       2   \n",
       "\n",
       "                    Title  \n",
       "0                 \"Pilot\"  \n",
       "1                 \"Pilot\"  \n",
       "2                 \"Pilot\"  \n",
       "3  \"America, What a Town\"  \n",
       "4  \"America, What a Town\"  "
      ]
     },
     "execution_count": 133,
     "metadata": {},
     "output_type": "execute_result"
    }
   ],
   "source": [
    "df.head()"
   ]
  },
  {
   "cell_type": "code",
   "execution_count": 135,
   "metadata": {},
   "outputs": [
    {
     "data": {
      "text/plain": [
       "(24, 5)"
      ]
     },
     "execution_count": 135,
     "metadata": {},
     "output_type": "execute_result"
    }
   ],
   "source": [
    "df.shape"
   ]
  },
  {
   "cell_type": "markdown",
   "metadata": {},
   "source": [
    "Can you get me the other seasons?"
   ]
  },
  {
   "cell_type": "code",
   "execution_count": 136,
   "metadata": {},
   "outputs": [
    {
     "data": {
      "text/plain": [
       "<bound method Series.unique of 0     1\n",
       "1     1\n",
       "2     1\n",
       "3     1\n",
       "4     1\n",
       "5     1\n",
       "6     1\n",
       "7     1\n",
       "8     1\n",
       "9     1\n",
       "10    1\n",
       "11    1\n",
       "12    1\n",
       "13    1\n",
       "14    1\n",
       "15    1\n",
       "16    1\n",
       "17    1\n",
       "18    1\n",
       "19    1\n",
       "20    1\n",
       "21    1\n",
       "22    1\n",
       "23    1\n",
       "Name: Season, dtype: object>"
      ]
     },
     "execution_count": 136,
     "metadata": {},
     "output_type": "execute_result"
    }
   ],
   "source": [
    "df[\"Season\"].unique"
   ]
  },
  {
   "cell_type": "markdown",
   "metadata": {},
   "source": [
    "### Problem\n",
    "\n",
    "Continue to add other 4 seasons, giving a complete table with all guest stars for five seasons of 21 Jump Street."
   ]
  }
 ],
 "metadata": {
  "kernelspec": {
   "display_name": "Python 3",
   "language": "python",
   "name": "python3"
  },
  "language_info": {
   "codemirror_mode": {
    "name": "ipython",
    "version": 3
   },
   "file_extension": ".py",
   "mimetype": "text/x-python",
   "name": "python",
   "nbconvert_exporter": "python",
   "pygments_lexer": "ipython3",
   "version": "3.6.3"
  }
 },
 "nbformat": 4,
 "nbformat_minor": 2
}

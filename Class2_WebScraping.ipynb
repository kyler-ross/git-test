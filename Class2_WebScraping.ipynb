{
 "cells": [
  {
   "cell_type": "code",
   "execution_count": 1,
   "metadata": {
    "collapsed": true
   },
   "outputs": [],
   "source": [
    "%matplotlib inline\n",
    "import matplotlib.pyplot as plt\n",
    "import pandas as pd\n",
    "import numpy as np\n",
    "import seaborn as sns"
   ]
  },
  {
   "cell_type": "code",
   "execution_count": 2,
   "metadata": {},
   "outputs": [
    {
     "data": {
      "text/html": [
       "<div>\n",
       "<style>\n",
       "    .dataframe thead tr:only-child th {\n",
       "        text-align: right;\n",
       "    }\n",
       "\n",
       "    .dataframe thead th {\n",
       "        text-align: left;\n",
       "    }\n",
       "\n",
       "    .dataframe tbody tr th {\n",
       "        vertical-align: top;\n",
       "    }\n",
       "</style>\n",
       "<table border=\"1\" class=\"dataframe\">\n",
       "  <thead>\n",
       "    <tr style=\"text-align: right;\">\n",
       "      <th></th>\n",
       "      <th>sepal_length</th>\n",
       "      <th>sepal_width</th>\n",
       "      <th>petal_length</th>\n",
       "      <th>petal_width</th>\n",
       "      <th>species</th>\n",
       "    </tr>\n",
       "  </thead>\n",
       "  <tbody>\n",
       "    <tr>\n",
       "      <th>0</th>\n",
       "      <td>5.1</td>\n",
       "      <td>3.5</td>\n",
       "      <td>1.4</td>\n",
       "      <td>0.2</td>\n",
       "      <td>setosa</td>\n",
       "    </tr>\n",
       "    <tr>\n",
       "      <th>1</th>\n",
       "      <td>4.9</td>\n",
       "      <td>3.0</td>\n",
       "      <td>1.4</td>\n",
       "      <td>0.2</td>\n",
       "      <td>setosa</td>\n",
       "    </tr>\n",
       "    <tr>\n",
       "      <th>2</th>\n",
       "      <td>4.7</td>\n",
       "      <td>3.2</td>\n",
       "      <td>1.3</td>\n",
       "      <td>0.2</td>\n",
       "      <td>setosa</td>\n",
       "    </tr>\n",
       "    <tr>\n",
       "      <th>3</th>\n",
       "      <td>4.6</td>\n",
       "      <td>3.1</td>\n",
       "      <td>1.5</td>\n",
       "      <td>0.2</td>\n",
       "      <td>setosa</td>\n",
       "    </tr>\n",
       "    <tr>\n",
       "      <th>4</th>\n",
       "      <td>5.0</td>\n",
       "      <td>3.6</td>\n",
       "      <td>1.4</td>\n",
       "      <td>0.2</td>\n",
       "      <td>setosa</td>\n",
       "    </tr>\n",
       "  </tbody>\n",
       "</table>\n",
       "</div>"
      ],
      "text/plain": [
       "   sepal_length  sepal_width  petal_length  petal_width species\n",
       "0           5.1          3.5           1.4          0.2  setosa\n",
       "1           4.9          3.0           1.4          0.2  setosa\n",
       "2           4.7          3.2           1.3          0.2  setosa\n",
       "3           4.6          3.1           1.5          0.2  setosa\n",
       "4           5.0          3.6           1.4          0.2  setosa"
      ]
     },
     "execution_count": 2,
     "metadata": {},
     "output_type": "execute_result"
    }
   ],
   "source": [
    "iris = sns.load_dataset(\"iris\")\n",
    "iris.head()"
   ]
  },
  {
   "cell_type": "code",
   "execution_count": 4,
   "metadata": {},
   "outputs": [
    {
     "data": {
      "image/png": "[encoded data removed]",
      "text/plain": [
       "<matplotlib.figure.Figure at 0x1a09595860>"
      ]
     },
     "metadata": {},
     "output_type": "display_data"
    }
   ],
   "source": [
    "sns.swarmplot(x=\"species\", y=\"sepal_length\", data=iris);"
   ]
  },
  {
   "cell_type": "code",
   "execution_count": 6,
   "metadata": {},
   "outputs": [
    {
     "data": {
      "image/png": "[encoded data removed]",
      "text/plain": [
       "<matplotlib.figure.Figure at 0x1a0a7651d0>"
      ]
     },
     "metadata": {},
     "output_type": "display_data"
    }
   ],
   "source": [
    "sns.boxplot(x=\"petal_length\", y=\"species\", data=iris);"
   ]
  },
  {
   "cell_type": "code",
   "execution_count": 8,
   "metadata": {},
   "outputs": [
    {
     "data": {
      "text/plain": [
       "<matplotlib.axes._subplots.AxesSubplot at 0x1a0ad120b8>"
      ]
     },
     "execution_count": 8,
     "metadata": {},
     "output_type": "execute_result"
    },
    {
     "data": {
      "image/png": "[encoded data removed]",
      "text/plain": [
       "<matplotlib.figure.Figure at 0x1a0a7fc5c0>"
      ]
     },
     "metadata": {},
     "output_type": "display_data"
    }
   ],
   "source": [
    "sns.distplot(iris[\"petal_width\"])"
   ]
  },
  {
   "cell_type": "code",
   "execution_count": 18,
   "metadata": {},
   "outputs": [
    {
     "data": {
      "text/plain": [
       "<matplotlib.figure.Figure at 0x1a0b7955f8>"
      ]
     },
     "metadata": {},
     "output_type": "display_data"
    },
    {
     "data": {
      "image/png": "[encoded data removed]",
      "text/plain": [
       "<matplotlib.figure.Figure at 0x1a0ae01390>"
      ]
     },
     "metadata": {},
     "output_type": "display_data"
    }
   ],
   "source": [
    "sns.factorplot(x=\"sepal_length\", y=\"sepal_width\", hue=\"species\", data=iris, scale=1);"
   ]
  },
  {
   "cell_type": "code",
   "execution_count": 20,
   "metadata": {},
   "outputs": [
    {
     "data": {
      "text/html": [
       "<div>\n",
       "<style>\n",
       "    .dataframe thead tr:only-child th {\n",
       "        text-align: right;\n",
       "    }\n",
       "\n",
       "    .dataframe thead th {\n",
       "        text-align: left;\n",
       "    }\n",
       "\n",
       "    .dataframe tbody tr th {\n",
       "        vertical-align: top;\n",
       "    }\n",
       "</style>\n",
       "<table border=\"1\" class=\"dataframe\">\n",
       "  <thead>\n",
       "    <tr style=\"text-align: right;\">\n",
       "      <th></th>\n",
       "      <th>'year'</th>\n",
       "      <th>'Afghanistan'</th>\n",
       "      <th>'Bahrain'</th>\n",
       "      <th>'Bangladesh'</th>\n",
       "      <th>'Cambodia'</th>\n",
       "      <th>'China'</th>\n",
       "      <th>'Hong Kong China'</th>\n",
       "      <th>'India'</th>\n",
       "      <th>'Indonesia'</th>\n",
       "      <th>'Iran'</th>\n",
       "      <th>...</th>\n",
       "      <th>'Philippines'</th>\n",
       "      <th>'Saudi Arabia'</th>\n",
       "      <th>'Singapore'</th>\n",
       "      <th>'Sri Lanka'</th>\n",
       "      <th>'Syria'</th>\n",
       "      <th>'Taiwan'</th>\n",
       "      <th>'Thailand'</th>\n",
       "      <th>'Vietnam'</th>\n",
       "      <th>'West Bank and Gaza'</th>\n",
       "      <th>'Yemen Rep.'</th>\n",
       "    </tr>\n",
       "  </thead>\n",
       "  <tbody>\n",
       "    <tr>\n",
       "      <th>0</th>\n",
       "      <td>1952</td>\n",
       "      <td>779.445314</td>\n",
       "      <td>9867.084765</td>\n",
       "      <td>684.244172</td>\n",
       "      <td>368.469286</td>\n",
       "      <td>400.448611</td>\n",
       "      <td>3054.421209</td>\n",
       "      <td>546.565749</td>\n",
       "      <td>749.681655</td>\n",
       "      <td>3035.326002</td>\n",
       "      <td>...</td>\n",
       "      <td>1272.880995</td>\n",
       "      <td>6459.554823</td>\n",
       "      <td>2315.138227</td>\n",
       "      <td>1083.532030</td>\n",
       "      <td>1643.485354</td>\n",
       "      <td>1206.947913</td>\n",
       "      <td>757.797418</td>\n",
       "      <td>605.066492</td>\n",
       "      <td>1515.592329</td>\n",
       "      <td>781.717576</td>\n",
       "    </tr>\n",
       "    <tr>\n",
       "      <th>1</th>\n",
       "      <td>1957</td>\n",
       "      <td>820.853030</td>\n",
       "      <td>11635.799450</td>\n",
       "      <td>661.637458</td>\n",
       "      <td>434.038336</td>\n",
       "      <td>575.987001</td>\n",
       "      <td>3629.076457</td>\n",
       "      <td>590.061996</td>\n",
       "      <td>858.900271</td>\n",
       "      <td>3290.257643</td>\n",
       "      <td>...</td>\n",
       "      <td>1547.944844</td>\n",
       "      <td>8157.591248</td>\n",
       "      <td>2843.104409</td>\n",
       "      <td>1072.546602</td>\n",
       "      <td>2117.234893</td>\n",
       "      <td>1507.861290</td>\n",
       "      <td>793.577415</td>\n",
       "      <td>676.285448</td>\n",
       "      <td>1827.067742</td>\n",
       "      <td>804.830455</td>\n",
       "    </tr>\n",
       "    <tr>\n",
       "      <th>2</th>\n",
       "      <td>1962</td>\n",
       "      <td>853.100710</td>\n",
       "      <td>12753.275140</td>\n",
       "      <td>686.341554</td>\n",
       "      <td>496.913648</td>\n",
       "      <td>487.674018</td>\n",
       "      <td>4692.648272</td>\n",
       "      <td>658.347151</td>\n",
       "      <td>849.289770</td>\n",
       "      <td>4187.329802</td>\n",
       "      <td>...</td>\n",
       "      <td>1649.552153</td>\n",
       "      <td>11626.419750</td>\n",
       "      <td>3674.735572</td>\n",
       "      <td>1074.471960</td>\n",
       "      <td>2193.037133</td>\n",
       "      <td>1822.879028</td>\n",
       "      <td>1002.199172</td>\n",
       "      <td>772.049160</td>\n",
       "      <td>2198.956312</td>\n",
       "      <td>825.623201</td>\n",
       "    </tr>\n",
       "    <tr>\n",
       "      <th>3</th>\n",
       "      <td>1967</td>\n",
       "      <td>836.197138</td>\n",
       "      <td>14804.672700</td>\n",
       "      <td>721.186086</td>\n",
       "      <td>523.432314</td>\n",
       "      <td>612.705693</td>\n",
       "      <td>6197.962814</td>\n",
       "      <td>700.770611</td>\n",
       "      <td>762.431772</td>\n",
       "      <td>5906.731805</td>\n",
       "      <td>...</td>\n",
       "      <td>1814.127430</td>\n",
       "      <td>16903.048860</td>\n",
       "      <td>4977.418540</td>\n",
       "      <td>1135.514326</td>\n",
       "      <td>1881.923632</td>\n",
       "      <td>2643.858681</td>\n",
       "      <td>1295.460660</td>\n",
       "      <td>637.123289</td>\n",
       "      <td>2649.715007</td>\n",
       "      <td>862.442146</td>\n",
       "    </tr>\n",
       "    <tr>\n",
       "      <th>4</th>\n",
       "      <td>1972</td>\n",
       "      <td>739.981106</td>\n",
       "      <td>18268.658390</td>\n",
       "      <td>630.233627</td>\n",
       "      <td>421.624026</td>\n",
       "      <td>676.900092</td>\n",
       "      <td>8315.928145</td>\n",
       "      <td>724.032527</td>\n",
       "      <td>1111.107907</td>\n",
       "      <td>9613.818607</td>\n",
       "      <td>...</td>\n",
       "      <td>1989.374070</td>\n",
       "      <td>24837.428650</td>\n",
       "      <td>8597.756202</td>\n",
       "      <td>1213.395530</td>\n",
       "      <td>2571.423014</td>\n",
       "      <td>4062.523897</td>\n",
       "      <td>1524.358936</td>\n",
       "      <td>699.501644</td>\n",
       "      <td>3133.409277</td>\n",
       "      <td>1265.047031</td>\n",
       "    </tr>\n",
       "  </tbody>\n",
       "</table>\n",
       "<p>5 rows × 34 columns</p>\n",
       "</div>"
      ],
      "text/plain": [
       "   'year'  'Afghanistan'     'Bahrain'  'Bangladesh'  'Cambodia'     'China'  \\\n",
       "0    1952     779.445314   9867.084765    684.244172  368.469286  400.448611   \n",
       "1    1957     820.853030  11635.799450    661.637458  434.038336  575.987001   \n",
       "2    1962     853.100710  12753.275140    686.341554  496.913648  487.674018   \n",
       "3    1967     836.197138  14804.672700    721.186086  523.432314  612.705693   \n",
       "4    1972     739.981106  18268.658390    630.233627  421.624026  676.900092   \n",
       "\n",
       "   'Hong Kong China'     'India'  'Indonesia'       'Iran'      ...       \\\n",
       "0        3054.421209  546.565749   749.681655  3035.326002      ...        \n",
       "1        3629.076457  590.061996   858.900271  3290.257643      ...        \n",
       "2        4692.648272  658.347151   849.289770  4187.329802      ...        \n",
       "3        6197.962814  700.770611   762.431772  5906.731805      ...        \n",
       "4        8315.928145  724.032527  1111.107907  9613.818607      ...        \n",
       "\n",
       "   'Philippines'  'Saudi Arabia'  'Singapore'  'Sri Lanka'      'Syria'  \\\n",
       "0    1272.880995     6459.554823  2315.138227  1083.532030  1643.485354   \n",
       "1    1547.944844     8157.591248  2843.104409  1072.546602  2117.234893   \n",
       "2    1649.552153    11626.419750  3674.735572  1074.471960  2193.037133   \n",
       "3    1814.127430    16903.048860  4977.418540  1135.514326  1881.923632   \n",
       "4    1989.374070    24837.428650  8597.756202  1213.395530  2571.423014   \n",
       "\n",
       "      'Taiwan'   'Thailand'   'Vietnam'  'West Bank and Gaza'  'Yemen Rep.'  \n",
       "0  1206.947913   757.797418  605.066492           1515.592329    781.717576  \n",
       "1  1507.861290   793.577415  676.285448           1827.067742    804.830455  \n",
       "2  1822.879028  1002.199172  772.049160           2198.956312    825.623201  \n",
       "3  2643.858681  1295.460660  637.123289           2649.715007    862.442146  \n",
       "4  4062.523897  1524.358936  699.501644           3133.409277   1265.047031  \n",
       "\n",
       "[5 rows x 34 columns]"
      ]
     },
     "execution_count": 20,
     "metadata": {},
     "output_type": "execute_result"
    }
   ],
   "source": [
    "gapminder = pd.read_csv('https://raw.githubusercontent.com/swcarpentry/python-novice-gapminder/gh-pages/data/asia_gdp_per_capita.csv')\n",
    "gapminder.head()"
   ]
  },
  {
   "cell_type": "code",
   "execution_count": 21,
   "metadata": {
    "collapsed": true
   },
   "outputs": [],
   "source": []
  },
  {
   "cell_type": "code",
   "execution_count": null,
   "metadata": {
    "collapsed": true
   },
   "outputs": [],
   "source": []
  }
 ],
 "metadata": {
  "kernelspec": {
   "display_name": "Python 3",
   "language": "python",
   "name": "python3"
  },
  "language_info": {
   "codemirror_mode": {
    "name": "ipython",
    "version": 3
   },
   "file_extension": ".py",
   "mimetype": "text/x-python",
   "name": "python",
   "nbconvert_exporter": "python",
   "pygments_lexer": "ipython3",
   "version": "3.6.3"
  }
 },
 "nbformat": 4,
 "nbformat_minor": 2
}

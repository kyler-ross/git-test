{
 "cells": [
  {
   "cell_type": "markdown",
   "metadata": {},
   "source": [
    "### Call what is important"
   ]
  },
  {
   "cell_type": "code",
   "execution_count": 1,
   "metadata": {},
   "outputs": [
    {
     "ename": "NameError",
     "evalue": "name 'response' is not defined",
     "output_type": "error",
     "traceback": [
      "\u001b[0;31m---------------------------------------------------------------------------\u001b[0m",
      "\u001b[0;31mNameError\u001b[0m                                 Traceback (most recent call last)",
      "\u001b[0;32m<ipython-input-1-d28f9df5c68f>\u001b[0m in \u001b[0;36m<module>\u001b[0;34m()\u001b[0m\n\u001b[1;32m     13\u001b[0m \u001b[0mset\u001b[0m\u001b[0;34m(\u001b[0m\u001b[0mstopwords\u001b[0m\u001b[0;34m.\u001b[0m\u001b[0mwords\u001b[0m\u001b[0;34m(\u001b[0m\u001b[0;34m'english'\u001b[0m\u001b[0;34m)\u001b[0m\u001b[0;34m)\u001b[0m\u001b[0;34m\u001b[0m\u001b[0m\n\u001b[1;32m     14\u001b[0m \u001b[0;34m\u001b[0m\u001b[0m\n\u001b[0;32m---> 15\u001b[0;31m \u001b[0mtype\u001b[0m\u001b[0;34m(\u001b[0m\u001b[0mresponse\u001b[0m\u001b[0;34m)\u001b[0m\u001b[0;34m\u001b[0m\u001b[0m\n\u001b[0m",
      "\u001b[0;31mNameError\u001b[0m: name 'response' is not defined"
     ]
    }
   ],
   "source": [
    "%matplotlib inline\n",
    "import matplotlib.pyplot as plt\n",
    "import requests\n",
    "from bs4 import BeautifulSoup as bs\n",
    "from nltk.corpus import stopwords\n",
    "import nltk\n",
    "from nltk import word_tokenize\n",
    "from nltk.corpus import stopwords\n",
    "from nltk.tokenize import RegexpTokenizer\n",
    "from nltk.corpus import stopwords\n",
    "import re\n",
    "\n",
    "set(stopwords.words('english'))\n",
    "\n",
    "type(response)"
   ]
  },
  {
   "cell_type": "markdown",
   "metadata": {},
   "source": [
    "### Annotated version below"
   ]
  },
  {
   "cell_type": "code",
   "execution_count": null,
   "metadata": {},
   "outputs": [],
   "source": [
    "# Pull in the raw text\n",
    "url = \"https://www.gutenberg.org/files/56569/56569-0.txt\"\n",
    "response = requests.get(url)\n",
    "\n",
    "# Turn into a beautiful soup object\n",
    "soup = bs(response.text, \"html.parser\")\n",
    "\n",
    "# Pull out just the words (converting it into a string in the process)\n",
    "words = soup.get_text()\n",
    "\n",
    "# Make all the words lower case to eliminate redundancy. Do this by making\n",
    "# an empty list then making a for loop which appends the lowered version \n",
    "# of the list to the main list\n",
    "lowered = []\n",
    "for word in words:\n",
    "    lowered.append(word.lower())\n",
    "\n",
    "# Call nltk.Text to make it into a nltk text object (from a list)\n",
    "text = nltk.Text(lowered)\n",
    "\n",
    "# Now make it into a frequency distribution off of the nltk object\n",
    "FreqDist = nltk.FreqDist(text)\n",
    "FreqDist.plot(30)"
   ]
  },
  {
   "cell_type": "code",
   "execution_count": null,
   "metadata": {},
   "outputs": [],
   "source": [
    "# Function time! Below is a frequency distribution machine we can easily call anywhere!\n",
    "def gutenburg_plot(url):\n",
    "    response = requests.get(url)\n",
    "    soup = bs(response.text, \"html.parser\")\n",
    "    words = soup.get_text()\n",
    "    tokens = word_tokenize(words)\n",
    "    \n",
    "    set(stopwords.words('english'))\n",
    "    stop_words = set(stopwords.words('english'))\n",
    "    tokens = [w for w in tokens if not w in stop_words]\n",
    "    long_words = [w for w in tokens if len(w)>1]\n",
    "    tokens = long_words\n",
    "    \n",
    "    lowered = []\n",
    "    for token in tokens:\n",
    "        lowered.append(token.lower())\n",
    "    text = nltk.Text(lowered)\n",
    "    FreqDist = nltk.FreqDist(text)\n",
    "    FreqDist.plot(20)"
   ]
  },
  {
   "cell_type": "code",
   "execution_count": null,
   "metadata": {},
   "outputs": [],
   "source": [
    "gutenburg_plot('https://www.gutenberg.org/files/11/11-0.txt')"
   ]
  },
  {
   "cell_type": "markdown",
   "metadata": {},
   "source": [
    "### Now use the function which we made into it's own python file"
   ]
  },
  {
   "cell_type": "code",
   "execution_count": 2,
   "metadata": {},
   "outputs": [
    {
     "data": {
      "image/png": "[encoded data removed]",
      "text/plain": [
       "<matplotlib.figure.Figure at 0x10f83f9e8>"
      ]
     },
     "metadata": {},
     "output_type": "display_data"
    }
   ],
   "source": [
    "import gutenburg_plot as gplot\n",
    "gplot.gutenburg_plot('https://www.gutenberg.org/files/11/11-0.txt')"
   ]
  },
  {
   "cell_type": "code",
   "execution_count": null,
   "metadata": {
    "collapsed": true
   },
   "outputs": [],
   "source": []
  },
  {
   "cell_type": "code",
   "execution_count": null,
   "metadata": {
    "collapsed": true
   },
   "outputs": [],
   "source": []
  }
 ],
 "metadata": {
  "kernelspec": {
   "display_name": "Python 3",
   "language": "python",
   "name": "python3"
  },
  "language_info": {
   "codemirror_mode": {
    "name": "ipython",
    "version": 3
   },
   "file_extension": ".py",
   "mimetype": "text/x-python",
   "name": "python",
   "nbconvert_exporter": "python",
   "pygments_lexer": "ipython3",
   "version": "3.6.3"
  }
 },
 "nbformat": 4,
 "nbformat_minor": 2
}
